{
 "cells": [
  {
   "cell_type": "markdown",
   "id": "21f91f39-3f49-4ddd-93f8-fcf3d5c8ae55",
   "metadata": {},
   "source": [
    "# Download dataset"
   ]
  },
  {
   "cell_type": "code",
   "execution_count": 1,
   "id": "05742a27-8a6d-4fea-a07e-4f8bc11d2c60",
   "metadata": {},
   "outputs": [
    {
     "name": "stdout",
     "output_type": "stream",
     "text": [
      "fatal: destination path 'XAMI-dataset' already exists and is not an empty directory.\n"
     ]
    }
   ],
   "source": [
    "# Clone the repo\n",
    "!git clone https://github.com/ESA-Datalabs/XAMI-dataset.git"
   ]
  },
  {
   "cell_type": "code",
   "execution_count": 2,
   "id": "94d917d7-e853-4894-b614-fd07dde20246",
   "metadata": {},
   "outputs": [
    {
     "name": "stdout",
     "output_type": "stream",
     "text": [
      "Dataset downloaded.\n",
      "Dataset unzipped.\n",
      "Train annotations file: \u001b[95m./data/xami_dataset/train/_annotations.coco.json\u001b[0m\n",
      "Valid annotations file: \u001b[95m./data/xami_dataset/valid/_annotations.coco.json\u001b[0m\n"
     ]
    }
   ],
   "source": [
    "import sys\n",
    "import os\n",
    "\n",
    "# set here the absolute path to the directory\n",
    "sys.path.append(os.getcwd()+'/XAMI-dataset')\n",
    "from xami_dataset import XAMIDataset\n",
    "\n",
    "# Download the dataset\n",
    "xami_dataset = XAMIDataset(\n",
    "    repo_id=\"iulia-elisa/XAMI-dataset\", \n",
    "    dataset_name=\"xami_dataset\", \n",
    "    dest_dir='./data')"
   ]
  },
  {
   "cell_type": "markdown",
   "id": "f1b27f2c-d62a-425b-a816-7f1f6b020aaa",
   "metadata": {},
   "source": [
    "# Convert to YOLO format for model training"
   ]
  },
  {
   "cell_type": "code",
   "execution_count": 3,
   "id": "f7dd035e-b459-481e-9ca5-0c2f97329361",
   "metadata": {},
   "outputs": [
    {
     "name": "stdout",
     "output_type": "stream",
     "text": [
      "Processed 791 files.\n",
      "Processed 264 files.\n",
      "YAML file /workspace/raid/OM_DeepLearning/XAMI/data/xami_dataset_YOLO/data.yaml created and saved.\n"
     ]
    }
   ],
   "source": [
    "from dataset import coco_to_yolo_converter\n",
    "\n",
    "convert = True # if True, converts coco dataset to yolo format\n",
    "\n",
    "if convert: \n",
    "    coco_to_yolo_converter.convert_coco_to_yolo(\n",
    "    dir_absolute_path=os.getcwd(),\n",
    "    dataset_path='./data/xami_dataset/',\n",
    "    yolo_dataset_path=os.getcwd()+'/data/xami_dataset_YOLO/'\n",
    ")"
   ]
  },
  {
   "cell_type": "markdown",
   "id": "729892db-be3f-4abf-8334-6f0d67a3fc9b",
   "metadata": {},
   "source": [
    "# Download weights"
   ]
  },
  {
   "cell_type": "code",
   "execution_count": 4,
   "id": "c7e841c2-09ea-4ca2-8efe-82526c2dc0df",
   "metadata": {},
   "outputs": [
    {
     "name": "stdout",
     "output_type": "stream",
     "text": [
      "Checkpoints saved in ./data/weights/\n"
     ]
    }
   ],
   "source": [
    "from huggingface_hub import hf_hub_download\n",
    "\n",
    "dest_dir = './data/weights/'\n",
    "checkpoints = ['yolo_weights/best.pt', 'sam_weights/sam_0_best.pth', 'yolo_sam_final.pth']\n",
    "\n",
    "# download checkpoints from HuggingFace\n",
    "for checkpoint in checkpoints:\n",
    "    hf_hub_download(\n",
    "    \t\t\trepo_id=\"iulia-elisa/XAMI\",\n",
    "    \t\t\trepo_type='model',\n",
    "    \t\t\tfilename=checkpoint,\n",
    "    \t\t\tlocal_dir=dest_dir\n",
    "    \t\t)\n",
    "print(f'Checkpoints saved in {dest_dir}')"
   ]
  }
 ],
 "metadata": {
  "kernelspec": {
   "display_name": "env_py311",
   "language": "python",
   "name": "env_py311"
  },
  "language_info": {
   "codemirror_mode": {
    "name": "ipython",
    "version": 3
   },
   "file_extension": ".py",
   "mimetype": "text/x-python",
   "name": "python",
   "nbconvert_exporter": "python",
   "pygments_lexer": "ipython3",
   "version": "3.11.7"
  },
  "widgets": {
   "application/vnd.jupyter.widget-state+json": {
    "state": {},
    "version_major": 2,
    "version_minor": 0
   }
  }
 },
 "nbformat": 4,
 "nbformat_minor": 5
}
