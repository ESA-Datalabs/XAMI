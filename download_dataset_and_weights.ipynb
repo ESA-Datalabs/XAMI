{
 "cells": [
  {
   "cell_type": "markdown",
   "id": "21f91f39-3f49-4ddd-93f8-fcf3d5c8ae55",
   "metadata": {},
   "source": [
    "# Download dataset"
   ]
  },
  {
   "cell_type": "code",
   "execution_count": 1,
   "id": "05742a27-8a6d-4fea-a07e-4f8bc11d2c60",
   "metadata": {},
   "outputs": [
    {
     "name": "stdout",
     "output_type": "stream",
     "text": [
      "Cloning into 'XAMI-dataset'...\n",
      "remote: Enumerating objects: 195, done.\u001b[K\n",
      "remote: Counting objects: 100% (195/195), done.\u001b[K\n",
      "remote: Compressing objects: 100% (145/145), done.\u001b[K\n",
      "remote: Total 195 (delta 91), reused 148 (delta 47), pack-reused 0\u001b[K\n",
      "Receiving objects: 100% (195/195), 433.03 KiB | 3.21 MiB/s, done.\n",
      "Resolving deltas: 100% (91/91), done.\n"
     ]
    }
   ],
   "source": [
    "# Clone the repo\n",
    "!git clone https://github.com/ESA-Datalabs/XAMI-dataset.git"
   ]
  },
  {
   "cell_type": "code",
   "execution_count": 2,
   "id": "94d917d7-e853-4894-b614-fd07dde20246",
   "metadata": {},
   "outputs": [
    {
     "name": "stdout",
     "output_type": "stream",
     "text": [
      "Dataset downloaded.\n",
      "Dataset unzipped.\n",
      "Train annotations file: \u001b[95m./data/xami_dataset/train/_annotations.coco.json\u001b[0m\n",
      "Valid annotations file: \u001b[95m./data/xami_dataset/valid/_annotations.coco.json\u001b[0m\n"
     ]
    }
   ],
   "source": [
    "import sys\n",
    "\n",
    "sys.path.append(sys.path[0]+'/XAMI-dataset/') # workaround for lack of relative import in notebooks\n",
    "from xami_dataset import XAMIDataset\n",
    "\n",
    "# Download the dataset\n",
    "xami_dataset = XAMIDataset(\n",
    "    repo_id=\"iulia-elisa/XAMI-dataset\", \n",
    "    dataset_name=\"xami_dataset\", \n",
    "    dest_dir='./data')"
   ]
  },
  {
   "cell_type": "markdown",
   "id": "f1b27f2c-d62a-425b-a816-7f1f6b020aaa",
   "metadata": {},
   "source": [
    "# Convert to YOLO format for model training"
   ]
  },
  {
   "cell_type": "code",
   "execution_count": 4,
   "id": "f7dd035e-b459-481e-9ca5-0c2f97329361",
   "metadata": {},
   "outputs": [
    {
     "name": "stdout",
     "output_type": "stream",
     "text": [
      "Processed 791 files.\n",
      "Processed 264 files.\n",
      "YAML file ./data/xami_dataset_YOLO/data.yaml created and saved.\n"
     ]
    }
   ],
   "source": [
    "from dataset import coco_to_yolo_converter\n",
    "\n",
    "convert = True # if True, converts coco dataset to yolo format\n",
    "\n",
    "if convert: \n",
    "    coco_to_yolo_converter.convert_coco_to_yolo(\n",
    "    dir_absolute_path=sys.path[0],\n",
    "    dataset_path='./data/xami_dataset/',\n",
    "    yolo_dataset_path='./data/xami_dataset_YOLO/'\n",
    ")"
   ]
  },
  {
   "cell_type": "markdown",
   "id": "729892db-be3f-4abf-8334-6f0d67a3fc9b",
   "metadata": {},
   "source": [
    "# Download weights for model training"
   ]
  },
  {
   "cell_type": "code",
   "execution_count": 2,
   "id": "c7e841c2-09ea-4ca2-8efe-82526c2dc0df",
   "metadata": {},
   "outputs": [
    {
     "name": "stdout",
     "output_type": "stream",
     "text": [
      "Checkpoints saved in ./train_test/weights/\n"
     ]
    }
   ],
   "source": [
    "from huggingface_hub import hf_hub_download\n",
    "\n",
    "dest_dir = './train_test/weights/'\n",
    "checkpoints = ['yolo_weights/best.pt', 'sam_weights/sam_0_best.pth', 'yolo_sam_final.pth']\n",
    "\n",
    "# download checkpoints from HuggingFace\n",
    "for checkpoint in checkpoints:\n",
    "    hf_hub_download(\n",
    "    \t\t\trepo_id=\"iulia-elisa/XAMI\",\n",
    "    \t\t\trepo_type='model',\n",
    "    \t\t\tfilename=checkpoint,\n",
    "    \t\t\tlocal_dir=dest_dir\n",
    "    \t\t)\n",
    "print(f'Checkpoints saved in {dest_dir}')"
   ]
  }
 ],
 "metadata": {
  "kernelspec": {
   "display_name": "env_py311",
   "language": "python",
   "name": "env_py311"
  },
  "language_info": {
   "codemirror_mode": {
    "name": "ipython",
    "version": 3
   },
   "file_extension": ".py",
   "mimetype": "text/x-python",
   "name": "python",
   "nbconvert_exporter": "python",
   "pygments_lexer": "ipython3",
   "version": "3.11.7"
  },
  "widgets": {
   "application/vnd.jupyter.widget-state+json": {
    "state": {
     "028c6084b78940d79844d7dad1a56fbc": {
      "model_module": "@jupyter-widgets/controls",
      "model_module_version": "2.0.0",
      "model_name": "HTMLStyleModel",
      "state": {
       "description_width": "",
       "font_size": null,
       "text_color": null
      }
     },
     "0b13af898fba4df88cf26551c9bff39d": {
      "model_module": "@jupyter-widgets/base",
      "model_module_version": "2.0.0",
      "model_name": "LayoutModel",
      "state": {}
     },
     "2054de763673481b8c9772b1fdcbf91f": {
      "model_module": "@jupyter-widgets/base",
      "model_module_version": "2.0.0",
      "model_name": "LayoutModel",
      "state": {}
     },
     "29d787d9c36047e4b49f1dc3f034bad7": {
      "model_module": "@jupyter-widgets/controls",
      "model_module_version": "2.0.0",
      "model_name": "HTMLModel",
      "state": {
       "layout": "IPY_MODEL_b9e579daf2c542f98744ec498837afe7",
       "style": "IPY_MODEL_e8abddffc3964c9583639c53623c2368",
       "value": " 6.79M/6.79M [00:00&lt;00:00, 24.1MB/s]"
      }
     },
     "3eabdab555b54d539db39dcd8bea2f90": {
      "model_module": "@jupyter-widgets/controls",
      "model_module_version": "2.0.0",
      "model_name": "HTMLStyleModel",
      "state": {
       "description_width": "",
       "font_size": null,
       "text_color": null
      }
     },
     "432d4ba5ea4d436c848cc84210fc32cf": {
      "model_module": "@jupyter-widgets/controls",
      "model_module_version": "2.0.0",
      "model_name": "HTMLModel",
      "state": {
       "layout": "IPY_MODEL_f2d45209ab984c49b07c96c03a7994b1",
       "style": "IPY_MODEL_3eabdab555b54d539db39dcd8bea2f90",
       "value": "best.pt: 100%"
      }
     },
     "4d03ad6d86b540218f73b3bd7364f138": {
      "model_module": "@jupyter-widgets/controls",
      "model_module_version": "2.0.0",
      "model_name": "HTMLStyleModel",
      "state": {
       "description_width": "",
       "font_size": null,
       "text_color": null
      }
     },
     "4f4a917d5c57438d81cfa439904dfd14": {
      "model_module": "@jupyter-widgets/controls",
      "model_module_version": "2.0.0",
      "model_name": "ProgressStyleModel",
      "state": {
       "description_width": ""
      }
     },
     "57851dfb3e54484bad5a416415394507": {
      "model_module": "@jupyter-widgets/controls",
      "model_module_version": "2.0.0",
      "model_name": "FloatProgressModel",
      "state": {
       "bar_style": "success",
       "layout": "IPY_MODEL_0b13af898fba4df88cf26551c9bff39d",
       "max": 40734817,
       "style": "IPY_MODEL_6f4487c471eb4f909aa9282486631fea",
       "value": 40734817
      }
     },
     "5ac6facb078444ca81a45170e48034ab": {
      "model_module": "@jupyter-widgets/controls",
      "model_module_version": "2.0.0",
      "model_name": "HBoxModel",
      "state": {
       "children": [
        "IPY_MODEL_432d4ba5ea4d436c848cc84210fc32cf",
        "IPY_MODEL_bf3c1bf494b44c1d8d3c5863992a38b0",
        "IPY_MODEL_29d787d9c36047e4b49f1dc3f034bad7"
       ],
       "layout": "IPY_MODEL_5b4f1687dcb44c74b85afaea0b90af75"
      }
     },
     "5b4f1687dcb44c74b85afaea0b90af75": {
      "model_module": "@jupyter-widgets/base",
      "model_module_version": "2.0.0",
      "model_name": "LayoutModel",
      "state": {}
     },
     "62246fb9c2714827821c48d43b99cc73": {
      "model_module": "@jupyter-widgets/controls",
      "model_module_version": "2.0.0",
      "model_name": "ProgressStyleModel",
      "state": {
       "description_width": ""
      }
     },
     "6317d6579f1f4a8380620f19c20966c4": {
      "model_module": "@jupyter-widgets/controls",
      "model_module_version": "2.0.0",
      "model_name": "HBoxModel",
      "state": {
       "children": [
        "IPY_MODEL_7fe419beb2ff46998cbf8c69b3116bb5",
        "IPY_MODEL_57851dfb3e54484bad5a416415394507",
        "IPY_MODEL_7a36e3a3cbbe4ee4b469fcadba3fb609"
       ],
       "layout": "IPY_MODEL_2054de763673481b8c9772b1fdcbf91f"
      }
     },
     "6ae1dc07bc8e49d4aa426f64a246f892": {
      "model_module": "@jupyter-widgets/controls",
      "model_module_version": "2.0.0",
      "model_name": "HTMLModel",
      "state": {
       "layout": "IPY_MODEL_9dbfe3c1544b4d70a45fadc14ea27b8f",
       "style": "IPY_MODEL_998f69a1756f409493ade11174a1fd89",
       "value": "sam_0_best.pth: 100%"
      }
     },
     "6ee54d446afe4aa5a5ee31328eadfe0f": {
      "model_module": "@jupyter-widgets/base",
      "model_module_version": "2.0.0",
      "model_name": "LayoutModel",
      "state": {}
     },
     "6f4487c471eb4f909aa9282486631fea": {
      "model_module": "@jupyter-widgets/controls",
      "model_module_version": "2.0.0",
      "model_name": "ProgressStyleModel",
      "state": {
       "description_width": ""
      }
     },
     "7a36e3a3cbbe4ee4b469fcadba3fb609": {
      "model_module": "@jupyter-widgets/controls",
      "model_module_version": "2.0.0",
      "model_name": "HTMLModel",
      "state": {
       "layout": "IPY_MODEL_833072268d92409cbd8d4fef99b9b2f0",
       "style": "IPY_MODEL_4d03ad6d86b540218f73b3bd7364f138",
       "value": " 40.7M/40.7M [00:01&lt;00:00, 41.3MB/s]"
      }
     },
     "7fe419beb2ff46998cbf8c69b3116bb5": {
      "model_module": "@jupyter-widgets/controls",
      "model_module_version": "2.0.0",
      "model_name": "HTMLModel",
      "state": {
       "layout": "IPY_MODEL_9ebb458072af4a549366734a9132dad5",
       "style": "IPY_MODEL_eba939c90525427fb365d94f7d28e970",
       "value": "yolo_sam_final.pth: 100%"
      }
     },
     "833072268d92409cbd8d4fef99b9b2f0": {
      "model_module": "@jupyter-widgets/base",
      "model_module_version": "2.0.0",
      "model_name": "LayoutModel",
      "state": {}
     },
     "8751a4678ab444539e9ba9e0f60ac188": {
      "model_module": "@jupyter-widgets/base",
      "model_module_version": "2.0.0",
      "model_name": "LayoutModel",
      "state": {}
     },
     "97e0bc1ecf6446edb04c695c16e4413c": {
      "model_module": "@jupyter-widgets/base",
      "model_module_version": "2.0.0",
      "model_name": "LayoutModel",
      "state": {}
     },
     "9972241936ac4b95a3e4351d4e133e27": {
      "model_module": "@jupyter-widgets/controls",
      "model_module_version": "2.0.0",
      "model_name": "HTMLModel",
      "state": {
       "layout": "IPY_MODEL_8751a4678ab444539e9ba9e0f60ac188",
       "style": "IPY_MODEL_028c6084b78940d79844d7dad1a56fbc",
       "value": " 40.7M/40.7M [00:00&lt;00:00, 65.5MB/s]"
      }
     },
     "998f69a1756f409493ade11174a1fd89": {
      "model_module": "@jupyter-widgets/controls",
      "model_module_version": "2.0.0",
      "model_name": "HTMLStyleModel",
      "state": {
       "description_width": "",
       "font_size": null,
       "text_color": null
      }
     },
     "9dbfe3c1544b4d70a45fadc14ea27b8f": {
      "model_module": "@jupyter-widgets/base",
      "model_module_version": "2.0.0",
      "model_name": "LayoutModel",
      "state": {}
     },
     "9ebb458072af4a549366734a9132dad5": {
      "model_module": "@jupyter-widgets/base",
      "model_module_version": "2.0.0",
      "model_name": "LayoutModel",
      "state": {}
     },
     "b4bd1afdec694cc6bd76db1f858cc3b2": {
      "model_module": "@jupyter-widgets/controls",
      "model_module_version": "2.0.0",
      "model_name": "FloatProgressModel",
      "state": {
       "bar_style": "success",
       "layout": "IPY_MODEL_97e0bc1ecf6446edb04c695c16e4413c",
       "max": 40733045,
       "style": "IPY_MODEL_4f4a917d5c57438d81cfa439904dfd14",
       "value": 40733045
      }
     },
     "b9e579daf2c542f98744ec498837afe7": {
      "model_module": "@jupyter-widgets/base",
      "model_module_version": "2.0.0",
      "model_name": "LayoutModel",
      "state": {}
     },
     "bf3c1bf494b44c1d8d3c5863992a38b0": {
      "model_module": "@jupyter-widgets/controls",
      "model_module_version": "2.0.0",
      "model_name": "FloatProgressModel",
      "state": {
       "bar_style": "success",
       "layout": "IPY_MODEL_ef51bf8b4fe54265851c34d53240fdae",
       "max": 6794403,
       "style": "IPY_MODEL_62246fb9c2714827821c48d43b99cc73",
       "value": 6794403
      }
     },
     "e0a41909ccb44ba6818abe2a2dae344a": {
      "model_module": "@jupyter-widgets/controls",
      "model_module_version": "2.0.0",
      "model_name": "HBoxModel",
      "state": {
       "children": [
        "IPY_MODEL_6ae1dc07bc8e49d4aa426f64a246f892",
        "IPY_MODEL_b4bd1afdec694cc6bd76db1f858cc3b2",
        "IPY_MODEL_9972241936ac4b95a3e4351d4e133e27"
       ],
       "layout": "IPY_MODEL_6ee54d446afe4aa5a5ee31328eadfe0f"
      }
     },
     "e8abddffc3964c9583639c53623c2368": {
      "model_module": "@jupyter-widgets/controls",
      "model_module_version": "2.0.0",
      "model_name": "HTMLStyleModel",
      "state": {
       "description_width": "",
       "font_size": null,
       "text_color": null
      }
     },
     "eba939c90525427fb365d94f7d28e970": {
      "model_module": "@jupyter-widgets/controls",
      "model_module_version": "2.0.0",
      "model_name": "HTMLStyleModel",
      "state": {
       "description_width": "",
       "font_size": null,
       "text_color": null
      }
     },
     "ef51bf8b4fe54265851c34d53240fdae": {
      "model_module": "@jupyter-widgets/base",
      "model_module_version": "2.0.0",
      "model_name": "LayoutModel",
      "state": {}
     },
     "f2d45209ab984c49b07c96c03a7994b1": {
      "model_module": "@jupyter-widgets/base",
      "model_module_version": "2.0.0",
      "model_name": "LayoutModel",
      "state": {}
     }
    },
    "version_major": 2,
    "version_minor": 0
   }
  }
 },
 "nbformat": 4,
 "nbformat_minor": 5
}
