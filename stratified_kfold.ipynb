{
 "cells": [
  {
   "cell_type": "markdown",
   "id": "cc67a7a5-0208-476c-a8f0-c5e0fcc93191",
   "metadata": {},
   "source": [
    "# Startified KFold for the OM dataset\n",
    "\n",
    "This code is provided to split a dataset in COCO (+ YOLO later) format given labels distributions across the dataset. This algorithms is indended for preserving the samples percentages for each class in order to provide a smoother generalization and adress class imbalance. "
   ]
  },
  {
   "cell_type": "code",
   "execution_count": 1,
   "id": "d6627523-549a-4e9d-98d7-fb626072ec7a",
   "metadata": {},
   "outputs": [],
   "source": [
    "# # Example usage\n",
    "\n",
    "# import dataset\n",
    "# from dataset import coco_to_yolo_converter\n",
    "\n",
    "# input_path = \"./roboflow_datasets/xmm_om_artefacts_512-7-COCO/\"\n",
    "# output_path = \"./roboflow_datasets/xmm_om_artefacts_512-7-YOLO/train/\"\n",
    "# input_json_train = \"train/skf_train_annotations.coco.json\"\n",
    "\n",
    "# converter = coco_to_yolo_converter.COCOToYOLOConverter(input_path, output_path, input_json_train)\n",
    "# converter.convert()"
   ]
  },
  {
   "cell_type": "markdown",
   "id": "481721e0-f8f0-4dc5-82d9-a270a380af8f",
   "metadata": {},
   "source": [
    "## Setup"
   ]
  },
  {
   "cell_type": "code",
   "execution_count": 168,
   "id": "be577e28-a3be-4692-86b1-583950fee549",
   "metadata": {},
   "outputs": [],
   "source": [
    "import json\n",
    "from sklearn.model_selection import StratifiedKFold\n",
    "import numpy as np\n",
    "import os"
   ]
  },
  {
   "cell_type": "markdown",
   "id": "05ac0285-580f-4329-a387-1bf096a13896",
   "metadata": {},
   "source": [
    "## Load the dataset"
   ]
  },
  {
   "cell_type": "code",
   "execution_count": 170,
   "id": "b73f1b80-bbfb-4322-9707-bf511e1eab67",
   "metadata": {},
   "outputs": [],
   "source": [
    "dataset_path = './roboflow_datasets/xmm_om_artefacts_512-20-COCO/'\n",
    "json_file_path = dataset_path+'train/_annotations.coco.json'\n",
    "dest_path = './roboflow_datasets/xmm_om_artefacts_512-20-COCO-splits/'\n",
    "\n",
    "with open(json_file_path) as f:\n",
    "    data_in = json.load(f)\n",
    "data_in['categories']\n",
    "\n",
    "# create the destination folder if it doesn't exist already\n",
    "if not os.path.exists(dest_path):\n",
    "    os.mkdir(dest_path)"
   ]
  },
  {
   "cell_type": "code",
   "execution_count": 171,
   "id": "8f60b1a0-f2e2-4b7c-b605-b8a516bf7c76",
   "metadata": {},
   "outputs": [
    {
     "data": {
      "text/plain": [
       "[{'id': 0, 'name': 'artefacts', 'supercategory': 'none'},\n",
       " {'id': 1, 'name': 'central-ring', 'supercategory': 'artefacts'},\n",
       " {'id': 2, 'name': 'smoke-ring', 'supercategory': 'artefacts'},\n",
       " {'id': 3, 'name': 'star-loop', 'supercategory': 'artefacts'}]"
      ]
     },
     "execution_count": 171,
     "metadata": {},
     "output_type": "execute_result"
    }
   ],
   "source": [
    "data_in['categories']"
   ]
  },
  {
   "cell_type": "code",
   "execution_count": 172,
   "id": "53d28098-1b8c-4a9c-8fce-e107d515c1f3",
   "metadata": {},
   "outputs": [],
   "source": [
    "# # running the script multiple times may change the redistribution, \n",
    "# # thus we need to make sure that we won't keep the old files\n",
    "\n",
    "# import glob\n",
    "\n",
    "# files = glob.glob(f'{dest_valid_path}/*')\n",
    "\n",
    "# for file in files:\n",
    "#     os.remove(file)"
   ]
  },
  {
   "cell_type": "markdown",
   "id": "1200ab55-ec86-4614-b737-643afec87e0a",
   "metadata": {},
   "source": [
    "## Stratified KFold"
   ]
  },
  {
   "cell_type": "code",
   "execution_count": 173,
   "id": "02cabcf6-4cc9-4f8c-8f44-4d373872cb90",
   "metadata": {
    "scrolled": true
   },
   "outputs": [],
   "source": [
    "images, labels = [], []\n",
    "\n",
    "for k in range(len(data_in['images'])):\n",
    "    img_id = data_in['images'][k]['id']\n",
    "    annotations = [data_in['annotations'][j] for j in range(len(data_in['annotations'])) if data_in['annotations'][j]['image_id'] == img_id]\n",
    "    categories = set(str(annot['category_id']) for annot in annotations)\n",
    "    images.append([img_id])\n",
    "    labels.append(''.join(list(categories)))\n",
    "        \n",
    "images, labels = np.array(images), np.array(labels)"
   ]
  },
  {
   "cell_type": "code",
   "execution_count": 174,
   "id": "e187e440-3547-4f91-b935-0b3d8ff18701",
   "metadata": {
    "scrolled": true
   },
   "outputs": [
    {
     "data": {
      "text/plain": [
       "array(['321', '2', '312', '312', '32', '1', '3', '31', '312', '321', '3',\n",
       "       '21', '32', '1', '2', '32', '1', '312', '321', '321', '321', '2',\n",
       "       '32', '32', '321', '32', '321', '321', '', '321', '31', '31', '32',\n",
       "       '2', '32', '3', '31', '21', '31', '2', '321', '32', '31', '32',\n",
       "       '312', '32', '3', '321', '321', '1', '32', '21', '32', '21', '312',\n",
       "       '1', '321', '3', '3', '3', '1', '3', '21', '31', '21', '32', '321',\n",
       "       '31', '1', '3', '312', '1', '31', '3', '31', '1', '31', '31', '1',\n",
       "       '1', '3', '3', '21', '31', '31', '32', '32', '31', '31', '1',\n",
       "       '321', '32', '31', '321', '312', '32', '', '312', '312', '32', '3',\n",
       "       '21', '32', '32', '3', '312', '321', '312', '32', '1', '312', '32',\n",
       "       '1', '312', '3', '312', '31', '31', '312', '3', '31', '31', '',\n",
       "       '1', '', '1', '1', '321', '1', '', '321', '32', '3', '32', '312',\n",
       "       '1', '1', '3', '32', '3', '321', '21', '321', '32', '1', '312',\n",
       "       '1', '32', '31', '321', '', '32', '31', '31', '321', '31', '',\n",
       "       '31', '321', '312', '312', '3', '312', '321', '3', '3', '1', '32',\n",
       "       '32', '312', '32', '3', '31', '31', '3', '32', '3', '2', '21',\n",
       "       '32', '1', '312', '321', '3', '21', '312', '312', '', '', '312',\n",
       "       '32', '21', '2', '312', '321', '312', '31', '32', '32', '31',\n",
       "       '312', '31', '3', '32', '1', '21', '3', '31', '312', '2', '3',\n",
       "       '31', '312', '312', '3', '32', '312', '21', '312', '3', '32', '32',\n",
       "       '321', '2', '32', '31', '32', '31', '312', '312', '', '32', '321',\n",
       "       '3', '1', '31', '312', '21', '31', '31', '31', '312', '312', '31',\n",
       "       '321', '1', '3', '32', '31', '31', '3', '21', '312', '312', '312',\n",
       "       '3', '32', '31', '321', '32', '21', '3', '3', '1', '31', '1',\n",
       "       '321', '1', '21', '312', '32', '32', '32', '1', '31', '312', '32',\n",
       "       '32', '1', '1', '1', '312', '312', '3', '1', '321', '2', '312',\n",
       "       '3', '32', '32', '1', '32', '31', '21', '2', '312', '', '32',\n",
       "       '312', '32', '31', '312', '321', '1', '3', '1', '', '321', '312',\n",
       "       '1', '31', '1', '1', '321', '3', '32', '21', '312', '312', '312',\n",
       "       '1', '3', '312', '321', '312', '1', '21', '312', '3', '3', '312',\n",
       "       '', '3', '2', '21', '32', '21', '32', '32', '1', '312', '1', '1',\n",
       "       '2', '31', '32', '32', '2', '1', '31', '312', '21', '32', '', '31',\n",
       "       '1', '1', '312', '1', '21', '312', '1', '32', '32', '2', '21',\n",
       "       '312', '1', '1', '1', '21', '31', '3', '', '2', '32', '1', '312',\n",
       "       '', '32', '3', '312', '312', '2', '1', '312', '31', '312', '1',\n",
       "       '1', '31', '31', '3', '321', '2', '312', '31', '32', '321', '31',\n",
       "       '321', '312', '21', '32', '1', '21', '', '32', '31', '21', '21',\n",
       "       '312', '321', '312', '2', '21', '1', '32', '1', '31', '31', '32',\n",
       "       '321', '31', '32', '31', '31', '21', '21', '31', '31', '321', '21',\n",
       "       '321', '32', '32', '312', '31', '321', '312', '312', '1', '32',\n",
       "       '32', '312', '31', '3', '', '312', '1', '', '312', '312', '321',\n",
       "       '31', '1', '321', '21', '321', '312', '31', '321', '21', '', '1',\n",
       "       '3', '1', '312', '312', '2', '31', '31', '31', '3', '1', '312',\n",
       "       '3', '312', '32', '321', '32', '1', '', '312', '3', '1', '312',\n",
       "       '312', '1', '3', '', '312', '312', '312', '31', '31', '321', '1',\n",
       "       '31', '21', '31', '3', '21', '32', '32', '31', '3', '312', '312',\n",
       "       '321', '32', '31', '32', '31', '2', '312', '2', '', '2', '31',\n",
       "       '32', '31', '3', '312', '32', '321', '21', '31', '32', '321', '3',\n",
       "       '321', '1', '32', '32', '32', '321', '32', '312', '31', '21',\n",
       "       '312', '1', '312', '31', '312', '312', '32', '32', '32', '2', '31',\n",
       "       '321', '32', '32', '312', '31', '32', '32', '31', '32', '1', '321',\n",
       "       '31', '31', '321', '312', '', '312', '31', '31', '31', '32', '2',\n",
       "       '31', '312', '31', '31', '1', '31', '3', '321', '32', '312', '31',\n",
       "       '1', '31', '321', '32', '312', '2', '1', '31', '1', '321', '1',\n",
       "       '312', '32', '3', '3', '312', '31', '2', '312', '1', '312', '31',\n",
       "       '3', '32', '3', '31', '31', '1', '31', '31', '3', '3', '21', '321',\n",
       "       '321', '312', '1', '21', '2', '312', '3', '321', '1', '31', '1',\n",
       "       '312', '21', '32', '32', '32', '3', '32', '21', '31', '321', '32',\n",
       "       '31', '1', '2', '32', '321', '', '3', '2', '1', '1', '32', '312',\n",
       "       '1', '31', '21', '3', '2', '32', '1', '312', '312', '21', '321',\n",
       "       '32', '1', '31', '3', '', '312', '312', '32', '1', '1', '32', '31',\n",
       "       '32', '32', '2', '1', '1', '31', '32', '312', '31', '1', '312',\n",
       "       '312', '312', '31', '312', '31', '321', '321', '32', '1', '32',\n",
       "       '21', '321', '312', '1', '31', '321', '312', '21', '1', '312',\n",
       "       '321', '32', '31', '1', '31', '312', '31', '1', '312', '1', '31',\n",
       "       '3', '31', '1', '31', '31', '312', '321', '321'], dtype='<U3')"
      ]
     },
     "execution_count": 174,
     "metadata": {},
     "output_type": "execute_result"
    }
   ],
   "source": [
    "labels"
   ]
  },
  {
   "cell_type": "markdown",
   "id": "bcd80d21-0b2a-46f5-b454-ec76a50ece13",
   "metadata": {},
   "source": [
    "The resulting arrays' size equals to the number of annotations because image ids are repeated for each label associated with them."
   ]
  },
  {
   "cell_type": "code",
   "execution_count": 175,
   "id": "18dd4486-cae8-4a04-957b-9be1ae87d4d3",
   "metadata": {},
   "outputs": [
    {
     "data": {
      "text/plain": [
       "((727, 1), (727,))"
      ]
     },
     "execution_count": 175,
     "metadata": {},
     "output_type": "execute_result"
    }
   ],
   "source": [
    "images.shape, labels.shape"
   ]
  },
  {
   "cell_type": "markdown",
   "id": "39fac921-4672-447e-87d1-dc41037ac5f2",
   "metadata": {},
   "source": [
    "Run the Stratified KFold split and generate train and valid datasets given the number of splits. \n",
    "\n",
    "The split percentage is calculated depending on the `n_splits` parameter:\n",
    "\n",
    "> train_percentage = int(100 * 1/n_splits)\n",
    ">\n",
    "> valid_percentage = 100 - train_percentage"
   ]
  },
  {
   "cell_type": "code",
   "execution_count": 176,
   "id": "b572c3f9-0e9a-43ff-a77b-fcb0712e893e",
   "metadata": {
    "scrolled": true
   },
   "outputs": [],
   "source": [
    "skf_image_ids, skf_labels = {}, {}\n",
    "\n",
    "n_splits = 3\n",
    "skf = StratifiedKFold(n_splits=n_splits, shuffle=True, random_state=42)\n",
    "\n",
    "for i, (train_index, valid_index) in enumerate(skf.split(images, labels)):\n",
    "    skf_image_ids[i] = {'train': images[train_index], 'valid': images[valid_index]}\n",
    "    skf_labels[i] = {'train': labels[train_index], 'valid': labels[valid_index]}"
   ]
  },
  {
   "cell_type": "code",
   "execution_count": 177,
   "id": "7be371fb-097f-431b-afbb-ee46c1b7396a",
   "metadata": {},
   "outputs": [],
   "source": [
    "\n",
    "# from sklearn.model_selection import train_test_split, StratifiedKFold, StratifiedShuffleSplit, KFold\n",
    "\n",
    "# n_splits = 3\n",
    "# skf = KFold(n_splits=n_splits, shuffle=True, random_state=42)\n",
    "# skf_image_ids, skf_labels = {}, {}\n",
    "\n",
    "# for i, (train_index, valid_index) in enumerate(skf.split(images, labels)):\n",
    "#     # print(f\"Fold {i}:\")\n",
    "#     # print(f\"  Train: Image index={images[train_index]}\")\n",
    "#     # print(f\"  valid:  Image index={images[valid_index]}\")\n",
    "#     skf_image_ids[i] = {'train': images[train_index], 'valid': images[valid_index]}\n",
    "#     skf_labels[i] = {'train': labels[train_index], 'valid': labels[valid_index]}"
   ]
  },
  {
   "cell_type": "code",
   "execution_count": 178,
   "id": "8f2cf6ca-b6e4-4c35-8a9c-b37b7c07c288",
   "metadata": {},
   "outputs": [
    {
     "data": {
      "text/plain": [
       "(485, 242)"
      ]
     },
     "execution_count": 178,
     "metadata": {},
     "output_type": "execute_result"
    }
   ],
   "source": [
    "len(train_index), len(valid_index)"
   ]
  },
  {
   "cell_type": "code",
   "execution_count": 179,
   "id": "c522ef0b-b05a-4094-87ec-e9621d1558d3",
   "metadata": {
    "scrolled": true
   },
   "outputs": [
    {
     "data": {
      "text/plain": [
       "(3, 'splits')"
      ]
     },
     "execution_count": 179,
     "metadata": {},
     "output_type": "execute_result"
    }
   ],
   "source": [
    "len(skf_image_ids), 'splits'"
   ]
  },
  {
   "cell_type": "markdown",
   "id": "5349dca5-6f45-4df6-a105-2d5e9b43d16c",
   "metadata": {},
   "source": [
    "**Ensure that there are no image ids present in both splits.**"
   ]
  },
  {
   "cell_type": "code",
   "execution_count": 180,
   "id": "0ccd44a3-1992-405c-a036-e9bc4ec214ac",
   "metadata": {
    "scrolled": true
   },
   "outputs": [
    {
     "name": "stdout",
     "output_type": "stream",
     "text": [
      "intersection 0\n",
      "intersection 0\n",
      "intersection 0\n"
     ]
    }
   ],
   "source": [
    "for i in range(n_splits):\n",
    "    print(\"intersection\", len(np.intersect1d(skf_image_ids[i]['train'], skf_image_ids[i]['valid'])))"
   ]
  },
  {
   "cell_type": "markdown",
   "id": "a4fc6386-22ed-4c6d-b088-a9def54c5b97",
   "metadata": {},
   "source": [
    "**Ensure that the labels distribution is roughly the same between splits.**"
   ]
  },
  {
   "cell_type": "code",
   "execution_count": 181,
   "id": "9780846f-f180-4c1f-9a63-cb45666866ad",
   "metadata": {
    "scrolled": true
   },
   "outputs": [],
   "source": [
    "labels_percentages = {}\n",
    "\n",
    "for i in range(n_splits):\n",
    "    train_k, valid_k = 0, 0\n",
    "    train_labels_counts = {'0':0, '1':0, '2':0, '3':0}\n",
    "    valid_labels_counts = {'0':0, '1':0, '2':0, '3':0}\n",
    "    \n",
    "    for j in range(len(skf_image_ids[i]['train'])):\n",
    "        for cat in list(skf_labels[i]['train'][j]):\n",
    "            train_labels_counts[cat] += 1\n",
    "            train_k+=1\n",
    "    \n",
    "    for j in range(len(skf_image_ids[i]['valid'])):\n",
    "        for cat in list(skf_labels[i]['valid'][j]):\n",
    "            valid_labels_counts[cat] += 1\n",
    "            valid_k+=1\n",
    "\n",
    "    train_labels_counts = {cat:counts * 1.0/train_k for cat, counts in train_labels_counts.items()}\n",
    "    valid_labels_counts = {cat:counts * 1.0/valid_k for cat, counts in valid_labels_counts.items()}\n",
    "            \n",
    "    labels_percentages[i] = {'train':train_labels_counts, 'valid':  valid_labels_counts}"
   ]
  },
  {
   "cell_type": "code",
   "execution_count": 182,
   "id": "7c807bfb-dfce-42b3-b47a-7c77af573639",
   "metadata": {
    "scrolled": true
   },
   "outputs": [
    {
     "data": {
      "text/plain": [
       "{0: {'train': {'0': 0.0,\n",
       "   '1': 0.3408360128617363,\n",
       "   '2': 0.28938906752411575,\n",
       "   '3': 0.36977491961414793},\n",
       "  'valid': {'0': 0.0,\n",
       "   '1': 0.3404710920770878,\n",
       "   '2': 0.2890792291220557,\n",
       "   '3': 0.37044967880085655}},\n",
       " 1: {'train': {'0': 0.0,\n",
       "   '1': 0.3408360128617363,\n",
       "   '2': 0.2883172561629153,\n",
       "   '3': 0.3708467309753483},\n",
       "  'valid': {'0': 0.0,\n",
       "   '1': 0.3404710920770878,\n",
       "   '2': 0.291220556745182,\n",
       "   '3': 0.3683083511777302}},\n",
       " 2: {'train': {'0': 0.0,\n",
       "   '1': 0.3404710920770878,\n",
       "   '2': 0.29014989293361887,\n",
       "   '3': 0.3693790149892934},\n",
       "  'valid': {'0': 0.0,\n",
       "   '1': 0.34120171673819744,\n",
       "   '2': 0.2875536480686695,\n",
       "   '3': 0.37124463519313305}}}"
      ]
     },
     "execution_count": 182,
     "metadata": {},
     "output_type": "execute_result"
    }
   ],
   "source": [
    "labels_percentages"
   ]
  },
  {
   "cell_type": "code",
   "execution_count": 183,
   "id": "29f53de0-1326-45f8-9312-cda9c4f1ed0b",
   "metadata": {
    "scrolled": true
   },
   "outputs": [
    {
     "data": {
      "text/plain": [
       "{0: {'train': {'0': 0.0,\n",
       "   '1': 0.3408360128617363,\n",
       "   '2': 0.28938906752411575,\n",
       "   '3': 0.36977491961414793},\n",
       "  'valid': {'0': 0.0,\n",
       "   '1': 0.3404710920770878,\n",
       "   '2': 0.2890792291220557,\n",
       "   '3': 0.37044967880085655}},\n",
       " 1: {'train': {'0': 0.0,\n",
       "   '1': 0.3408360128617363,\n",
       "   '2': 0.2883172561629153,\n",
       "   '3': 0.3708467309753483},\n",
       "  'valid': {'0': 0.0,\n",
       "   '1': 0.3404710920770878,\n",
       "   '2': 0.291220556745182,\n",
       "   '3': 0.3683083511777302}},\n",
       " 2: {'train': {'0': 0.0,\n",
       "   '1': 0.3404710920770878,\n",
       "   '2': 0.29014989293361887,\n",
       "   '3': 0.3693790149892934},\n",
       "  'valid': {'0': 0.0,\n",
       "   '1': 0.34120171673819744,\n",
       "   '2': 0.2875536480686695,\n",
       "   '3': 0.37124463519313305}}}"
      ]
     },
     "execution_count": 183,
     "metadata": {},
     "output_type": "execute_result"
    }
   ],
   "source": [
    "labels_percentages"
   ]
  },
  {
   "cell_type": "code",
   "execution_count": 167,
   "id": "fa174ab0-e461-481f-92f3-06ba8c3ebb68",
   "metadata": {
    "scrolled": true
   },
   "outputs": [
    {
     "data": {
      "image/png": "[encoded data removed]",
      "text/plain": [
       "<Figure size 640x480 with 1 Axes>"
      ]
     },
     "metadata": {},
     "output_type": "display_data"
    }
   ],
   "source": [
    "import matplotlib.pyplot as plt\n",
    "import numpy as np\n",
    "\n",
    "results = {\n",
    "    0: {'train': {'1': 0.3373362445414847, '2': 0.28820960698689957, '3': 0.37445414847161573},\n",
    "        'valid': {'1': 0.3492723492723493, '2': 0.2765072765072765, '3': 0.37422037422037424}},\n",
    "    1: {'train': {'1': 0.3361884368308351, '2': 0.28586723768736616, '3': 0.37794432548179874},\n",
    "        'valid': {'1': 0.35205183585313177, '2': 0.28077753779697623, '3': 0.367170626349892}},\n",
    "    2: {'train': {'1': 0.350635593220339, '2': 0.2786016949152542, '3': 0.3707627118644068},\n",
    "        'valid': {'1': 0.32229580573951433, '2': 0.2958057395143488, '3': 0.3818984547461369}}\n",
    "}\n",
    "\n",
    "results_skf = {\n",
    "    0: {'train':\n",
    "       { \n",
    "   '1': 0.34156820622986034,\n",
    "   '2': 0.28356605800214824,\n",
    "   '3': 0.3748657357679914},\n",
    "  'valid': {\n",
    "   '1': 0.34120171673819744,\n",
    "   '2': 0.2854077253218884,\n",
    "   '3': 0.37339055793991416}},\n",
    " 1: {'train': {\n",
    "   '1': 0.34156820622986034,\n",
    "   '2': 0.284640171858217,\n",
    "   '3': 0.37379162191192267},\n",
    "  'valid': {\n",
    "   '1': 0.34120171673819744,\n",
    "   '2': 0.2832618025751073,\n",
    "   '3': 0.37553648068669526}},\n",
    " 2: {'train': {\n",
    "   '1': 0.34120171673819744,\n",
    "   '2': 0.2843347639484979,\n",
    "   '3': 0.37446351931330474},\n",
    "  'valid': {\n",
    "   '1': 0.3419354838709677,\n",
    "   '2': 0.2838709677419355,\n",
    "   '3': 0.3741935483870968}}}\n",
    "\n",
    "colors = ['#89D8CD', '#9F156480', '#FFBCF880']\n",
    "\n",
    "label_diffs = {i: {label: abs(results[i]['train'][label] - results[i]['valid'][label])\n",
    "                   for label in results[i]['train']} for i in results}\n",
    "label_diffs_skf = {i: {label: abs(results_skf[i]['train'][label] - results_skf[i]['valid'][label])\n",
    "                   for label in results_skf[i]['train']} for i in results_skf}\n",
    "\n",
    "diff_array = np.array([[label_diffs[iteration][label] for label in sorted(label_diffs[iteration])]\n",
    "                       for iteration in sorted(label_diffs)])\n",
    "mean_array = np.array([np.mean(diff_array[:, i])*100 for i in range(diff_array.shape[0])])\n",
    "\n",
    "diff_array_skf = np.array([[label_diffs_skf[iteration][label] for label in sorted(label_diffs_skf[iteration])]\n",
    "                       for iteration in sorted(label_diffs_skf)])\n",
    "mean_array_skf = np.array([np.mean(diff_array_skf[:, i])*100 for i in range(diff_array_skf.shape[0])])\n",
    "\n",
    "\n",
    "indices = np.arange(len(mean_array))\n",
    "\n",
    "# # Plotting\n",
    "# plt.figure(figsize=(8, 6))\n",
    "# plt.plot(indices, mean_array, 'o', label='K-fold', markersize=8)\n",
    "# plt.plot(indices, mean_array_skf, 'o', label='Stratified K-fold', markersize=8)\n",
    "\n",
    "# # Customizing the plot\n",
    "# plt.xlabel('k', fontsize=14)\n",
    "# plt.ylabel('Mean difference (Train - Valid)', fontsize=14)\n",
    "# plt.title('Elements from Two Arrays', fontsize=16)\n",
    "# plt.xticks(indices)\n",
    "# plt.legend(fontsize=12)\n",
    "# plt.grid(True)\n",
    "\n",
    "# plt.show()\n",
    "\n",
    "\n",
    "# labels = [data_in['categories'][1]['name'],data_in['categories'][2]['name'], data_in['categories'][3]['name']]\n",
    "# iters = ['Iteration 1', 'Iteration 2', 'Iteration 3']\n",
    "\n",
    "# x = np.arange(len(labels))  # the label locations\n",
    "# width = 0.2  # the width of the bars\n",
    "\n",
    "# fig, ax = plt.subplots(figsize=(10, 6))\n",
    "# rects1 = ax.bar(x - width, np.mean(diff_array[:, 0]), width, label=iters[0], color=colors[0])\n",
    "# rects2 = ax.bar(x, np.mean(diff_array[:, 1]), width, label=iters[1], color=colors[1])\n",
    "# rects3 = ax.bar(x + width, np.mean(diff_array[:, 2]), width, label=iters[2], color=colors[2])\n",
    "\n",
    "# ax.set_ylabel('Difference (Train - Valid)')\n",
    "# # ax.set_title('Difference between Train and Valid Label Values by Iteration')\n",
    "# ax.set_xticks(x)\n",
    "# ax.set_xticklabels(iters)\n",
    "# ax.legend()\n",
    "\n",
    "# def autolabel(rects):\n",
    "#     for rect in rects:\n",
    "#         height = rect.get_height()\n",
    "#         ax.annotate('{}'.format(round(height, 4)),\n",
    "#                     xy=(rect.get_x() + rect.get_width() / 2, height),\n",
    "#                     xytext=(0, 1),  # 3 points vertical offset\n",
    "#                     textcoords=\"offset points\",\n",
    "#                     ha='center', va='bottom')\n",
    "#         ax.set_ylim(-0.02, 0.03)\n",
    "\n",
    "# autolabel(rects1)\n",
    "# autolabel(rects2)\n",
    "# autolabel(rects3)\n",
    "# fig.tight_layout()\n",
    "# plt.savefig('./plots/skf_errors.png', dpi=400)\n",
    "# plt.show()\n",
    "\n",
    "# Bar width\n",
    "width = 0.3\n",
    "\n",
    "fig, ax = plt.subplots()\n",
    "bars1 = ax.bar(indices - width/2, mean_array, width, label='K-fold', color='#5499C7')\n",
    "bars2 = ax.bar(indices + width/2, mean_array_skf, width, label='Stratified K-fold', color='#D682B1')\n",
    "\n",
    "# Adding labels and title\n",
    "plt.xlabel('k', fontsize=14)\n",
    "plt.ylabel('Mean difference (Train - Valid)', fontsize=14)\n",
    "# ax.set_title('Comparison of Two Arrays Using Bar Plot', fontsize=16)\n",
    "ax.set_xticks(indices)\n",
    "ax.set_xticklabels([str(i) for i in indices])\n",
    "ax.legend()\n",
    "plt.savefig('./plots/kf_skf_errors.png', dpi=400)\n",
    "plt.show()"
   ]
  },
  {
   "cell_type": "code",
   "execution_count": 153,
   "id": "fd049e73-1046-41b8-a43f-1a106dfc283d",
   "metadata": {},
   "outputs": [
    {
     "data": {
      "text/plain": [
       "(array([0.019, 0.011, 0.007]), array([0.   , 0.001, 0.001]))"
      ]
     },
     "execution_count": 153,
     "metadata": {},
     "output_type": "execute_result"
    }
   ],
   "source": [
    "mean_array, mean_array_skf"
   ]
  },
  {
   "cell_type": "code",
   "execution_count": 123,
   "id": "8f3328dc-8bd1-4864-9946-f0a5cd9f58f4",
   "metadata": {},
   "outputs": [
    {
     "data": {
      "text/plain": [
       "((3, 3),\n",
       " array([[0.00036649, 0.00184167, 0.00147518],\n",
       "        [0.00036649, 0.00137837, 0.00174486],\n",
       "        [0.00073377, 0.0004638 , 0.00026997]]))"
      ]
     },
     "execution_count": 123,
     "metadata": {},
     "output_type": "execute_result"
    }
   ],
   "source": [
    "diff_array.shape, diff_array_skf"
   ]
  },
  {
   "cell_type": "code",
   "execution_count": 115,
   "id": "8fbb69d4-9479-4050-b110-86d807b35c6e",
   "metadata": {},
   "outputs": [
    {
     "data": {
      "text/plain": [
       "0.018713097077995306"
      ]
     },
     "execution_count": 115,
     "metadata": {},
     "output_type": "execute_result"
    }
   ],
   "source": [
    "np.mean(diff_array[:, 0])"
   ]
  },
  {
   "cell_type": "code",
   "execution_count": 48,
   "id": "1814aaec-f8c4-443c-8cf0-17b51424d92a",
   "metadata": {},
   "outputs": [
    {
     "data": {
      "text/plain": [
       "array([[-0.0119361 ,  0.01170233,  0.00023377],\n",
       "       [-0.0158634 ,  0.0050897 ,  0.0107737 ],\n",
       "       [ 0.02833979, -0.01720404, -0.01113574]])"
      ]
     },
     "execution_count": 48,
     "metadata": {},
     "output_type": "execute_result"
    }
   ],
   "source": [
    "diff_array"
   ]
  },
  {
   "cell_type": "code",
   "execution_count": 43,
   "id": "33e46f67-54f9-4b69-a0b7-333610ba95e5",
   "metadata": {},
   "outputs": [
    {
     "data": {
      "text/plain": [
       "{0: {'1': -0.011936104730864594,\n",
       "  '2': 0.011702330479623047,\n",
       "  '3': 0.00023377425124149198},\n",
       " 1: {'1': -0.015863399022296665,\n",
       "  '2': 0.0050896998903899315,\n",
       "  '3': 0.010773699131906733},\n",
       " 2: {'1': 0.028339787480824663,\n",
       "  '2': -0.01720404459909458,\n",
       "  '3': -0.011135742881730082}}"
      ]
     },
     "execution_count": 43,
     "metadata": {},
     "output_type": "execute_result"
    }
   ],
   "source": [
    "label_diffs"
   ]
  },
  {
   "cell_type": "markdown",
   "id": "11674408-61aa-4535-9e81-1412010cdc17",
   "metadata": {},
   "source": [
    "## Update the dataset and save new annotations files"
   ]
  },
  {
   "cell_type": "code",
   "execution_count": 184,
   "id": "32fa1be5-48ee-4cf0-871c-759602e5548f",
   "metadata": {
    "scrolled": true
   },
   "outputs": [
    {
     "name": "stdout",
     "output_type": "stream",
     "text": [
      "484 243\n",
      "484 243\n",
      "Files moved successfully.\n",
      "485 242\n",
      "485 242\n",
      "Files moved successfully.\n",
      "485 242\n",
      "485 242\n",
      "Files moved successfully.\n"
     ]
    }
   ],
   "source": [
    "import shutil\n",
    "import os\n",
    "\n",
    "def make_split(data_in, train_index, valid_index):\n",
    "    \n",
    "    data_in_train = data_in.copy()\n",
    "    data_in_valid = data_in.copy()\n",
    "    \n",
    "    data_in_train['images'] = [data_in['images'][train_index[i][0]] for i in range(len(train_index))]\n",
    "    data_in_valid['images'] = [data_in['images'][valid_index[i][0]] for i in range(len(valid_index))]\n",
    "    train_annot_ids, valid_annot_ids = [], []\n",
    "    \n",
    "    for img_i in data_in_train['images']:\n",
    "        annotation_ids = [annot['id'] for annot in data_in_train['annotations'] if annot['image_id'] == img_i['id']]\n",
    "        train_annot_ids +=annotation_ids\n",
    "        \n",
    "    for img_i in data_in_valid['images']:\n",
    "        annotation_ids = [annot['id'] for annot in data_in_valid['annotations'] if annot['image_id'] == img_i['id']]\n",
    "        valid_annot_ids +=annotation_ids\n",
    "        \n",
    "    data_in_train['annotations'] = [data_in_train['annotations'][id] for id in train_annot_ids]\n",
    "    data_in_valid['annotations'] = [data_in_valid['annotations'][id] for id in valid_annot_ids]\n",
    "    \n",
    "    print(len(data_in_train['images']), len(data_in_valid['images']))\n",
    "    return data_in_train, data_in_valid\n",
    "\n",
    "for i in range(n_splits):\n",
    "    dest_train_path_i = dest_path + f'train_{i+1}/'\n",
    "    dest_valid_path_i = dest_path + f'valid_{i+1}/'\n",
    "    os.mkdir(dest_train_path_i)\n",
    "    os.mkdir(dest_valid_path_i)\n",
    "    new_train_json_path = dest_train_path_i+'skf_train_annotations.coco.json'\n",
    "    new_valid_json_path = dest_valid_path_i+'skf_valid_annotations.coco.json'\n",
    "    data_in_train_i, data_in_valid_i = make_split(data_in, skf_image_ids[i]['train'], skf_image_ids[i]['valid'])\n",
    "\n",
    "    with open(new_train_json_path, 'w') as f1, open(new_valid_json_path, 'w') as f2:\n",
    "        json.dump(data_in_train_i, f1, indent=4)\n",
    "        json.dump(data_in_valid_i, f2, indent=4)\n",
    "\n",
    "    # Copy the filenames to the corresponding split directories\n",
    "    train_filenames_i = list(set([image['file_name'] for image in data_in_train_i['images']]))\n",
    "    valid_filenames_i = list(set([image['file_name'] for image in data_in_valid_i['images']]))\n",
    "    print(len(train_filenames_i), len(valid_filenames_i))\n",
    "    \n",
    "    for filename in train_filenames_i:\n",
    "        source_path = os.path.join(dataset_path+'train/', filename)\n",
    "        dest_path_f = os.path.join(dest_train_path_i, filename)\n",
    "        shutil.copy(source_path, dest_path_f)\n",
    "\n",
    "    for filename in valid_filenames_i:\n",
    "        source_path = os.path.join(dataset_path+'train/', filename)\n",
    "        dest_path_f = os.path.join(dest_valid_path_i, filename)\n",
    "        shutil.copy(source_path, dest_path_f)\n",
    "    \n",
    "    print(\"Files moved successfully.\")"
   ]
  },
  {
   "cell_type": "markdown",
   "id": "6e63bfe8-6ff5-4416-8c58-92479e59a0c0",
   "metadata": {},
   "source": [
    "**extract annotations given skf indices**"
   ]
  },
  {
   "cell_type": "markdown",
   "id": "68d819d7-7c1d-4c48-9f77-6254348b9e17",
   "metadata": {},
   "source": [
    "**save the new json data**"
   ]
  },
  {
   "cell_type": "code",
   "execution_count": 189,
   "id": "5989eb8e-816e-4bbe-a6c8-00aefd060880",
   "metadata": {},
   "outputs": [],
   "source": [
    "# new_train_json_path = dest_train_path_i+'skf_train_annotations.coco.json'\n",
    "# new_valid_json_path = dest_valid_path_i+'skf_valid_annotations.coco.json'\n",
    "\n",
    "# with open(new_train_json_path, 'w') as f1, open(new_valid_json_path, 'w') as f2:\n",
    "#     json.dump(data_in_train, f1, indent=4)\n",
    "#     json.dump(data_in_valid, f2, indent=4)"
   ]
  },
  {
   "cell_type": "markdown",
   "id": "6d077028-eee4-4ac6-aeee-2f0023d5caba",
   "metadata": {},
   "source": [
    "**Move the filenames to the corresponding split directories**"
   ]
  }
 ],
 "metadata": {
  "kernelspec": {
   "display_name": "env_py311",
   "language": "python",
   "name": "env_py311"
  },
  "language_info": {
   "codemirror_mode": {
    "name": "ipython",
    "version": 3
   },
   "file_extension": ".py",
   "mimetype": "text/x-python",
   "name": "python",
   "nbconvert_exporter": "python",
   "pygments_lexer": "ipython3",
   "version": "3.11.7"
  },
  "widgets": {
   "application/vnd.jupyter.widget-state+json": {
    "state": {},
    "version_major": 2,
    "version_minor": 0
   }
  }
 },
 "nbformat": 4,
 "nbformat_minor": 5
}
