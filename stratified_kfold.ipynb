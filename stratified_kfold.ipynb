{
 "cells": [
  {
   "cell_type": "markdown",
   "id": "cc67a7a5-0208-476c-a8f0-c5e0fcc93191",
   "metadata": {},
   "source": [
    "# Stratified KFold for the OM dataset\n",
    "\n",
    "This code helps split a dataset in COCO (+ YOLO later) format given labels distributions across the dataset. This algorithm is indended for preserving the samples percentages for each class in order to provide a smoother generalization and adress class imbalance. "
   ]
  },
  {
   "cell_type": "markdown",
   "id": "481721e0-f8f0-4dc5-82d9-a270a380af8f",
   "metadata": {},
   "source": [
    "## Setup"
   ]
  },
  {
   "cell_type": "code",
   "execution_count": 2,
   "id": "be577e28-a3be-4692-86b1-583950fee549",
   "metadata": {},
   "outputs": [],
   "source": [
    "import json\n",
    "from sklearn.model_selection import StratifiedKFold, StratifiedShuffleSplit, KFold\n",
    "from iterstrat.ml_stratifiers import MultilabelStratifiedKFold\n",
    "\n",
    "import numpy as np\n",
    "import os"
   ]
  },
  {
   "cell_type": "markdown",
   "id": "05ac0285-580f-4329-a387-1bf096a13896",
   "metadata": {},
   "source": [
    "## Load the dataset"
   ]
  },
  {
   "cell_type": "code",
   "execution_count": 3,
   "id": "b73f1b80-bbfb-4322-9707-bf511e1eab67",
   "metadata": {},
   "outputs": [],
   "source": [
    "dataset_path = './roboflow_datasets/xmm_om_artefacts_512-28-COCO/'\n",
    "json_file_path = dataset_path+'train/_annotations.coco.json'\n",
    "dest_path = './roboflow_datasets/xmm_om_artefacts_512-28-COCO-splits/'\n",
    "\n",
    "with open(json_file_path) as f:\n",
    "    data_in = json.load(f)\n",
    "data_in['categories']\n",
    "\n",
    "# create the destination folder if it doesn't exist already\n",
    "if not os.path.exists(dest_path):\n",
    "    os.mkdir(dest_path)"
   ]
  },
  {
   "cell_type": "code",
   "execution_count": 4,
   "id": "8f60b1a0-f2e2-4b7c-b605-b8a516bf7c76",
   "metadata": {},
   "outputs": [
    {
     "data": {
      "text/plain": [
       "[{'id': 0, 'name': 'artefacts', 'supercategory': 'none'},\n",
       " {'id': 1, 'name': 'central-ring', 'supercategory': 'artefacts'},\n",
       " {'id': 2, 'name': 'other', 'supercategory': 'artefacts'},\n",
       " {'id': 3, 'name': 'read-out-streak', 'supercategory': 'artefacts'},\n",
       " {'id': 4, 'name': 'smoke-ring', 'supercategory': 'artefacts'},\n",
       " {'id': 5, 'name': 'star-loop', 'supercategory': 'artefacts'}]"
      ]
     },
     "execution_count": 4,
     "metadata": {},
     "output_type": "execute_result"
    }
   ],
   "source": [
    "data_in['categories']"
   ]
  },
  {
   "cell_type": "code",
   "execution_count": 4,
   "id": "53d28098-1b8c-4a9c-8fce-e107d515c1f3",
   "metadata": {},
   "outputs": [],
   "source": [
    "# # running the script multiple times may change the redistribution, \n",
    "# # thus we need to make sure that we won't keep the old files\n",
    "\n",
    "# import glob\n",
    "\n",
    "# files = glob.glob(f'{dest_path}/*')\n",
    "\n",
    "# for file in files:\n",
    "#     os.remove(file)"
   ]
  },
  {
   "cell_type": "markdown",
   "id": "1200ab55-ec86-4614-b737-643afec87e0a",
   "metadata": {},
   "source": [
    "## Stratified KFold"
   ]
  },
  {
   "cell_type": "code",
   "execution_count": 5,
   "id": "02cabcf6-4cc9-4f8c-8f44-4d373872cb90",
   "metadata": {
    "scrolled": true
   },
   "outputs": [],
   "source": [
    "images, labels = [], []\n",
    "\n",
    "for k in range(len(data_in['images'])):\n",
    "    img_id = data_in['images'][k]['id']\n",
    "    annotations = [data_in['annotations'][j] for j in range(len(data_in['annotations'])) if data_in['annotations'][j]['image_id'] == img_id]\n",
    "    categories = set(str(annot['category_id']) for annot in annotations)\n",
    "    images.append([img_id])\n",
    "    labels.append(''.join(list(categories)))\n",
    "        \n",
    "images, labels = np.array(images), np.array(labels)"
   ]
  },
  {
   "cell_type": "code",
   "execution_count": 6,
   "id": "33e172b7-2f6e-4353-ba9e-6f9d5d1afd69",
   "metadata": {
    "scrolled": true
   },
   "outputs": [
    {
     "data": {
      "text/plain": [
       "(23,)"
      ]
     },
     "execution_count": 6,
     "metadata": {},
     "output_type": "execute_result"
    }
   ],
   "source": [
    "np.unique(labels).shape"
   ]
  },
  {
   "cell_type": "markdown",
   "id": "bcd80d21-0b2a-46f5-b454-ec76a50ece13",
   "metadata": {},
   "source": [
    "The resulting arrays' size equals to the number of annotations because image ids are repeated for each label associated with them."
   ]
  },
  {
   "cell_type": "code",
   "execution_count": 7,
   "id": "18dd4486-cae8-4a04-957b-9be1ae87d4d3",
   "metadata": {},
   "outputs": [
    {
     "data": {
      "text/plain": [
       "((1019, 1), (1019,))"
      ]
     },
     "execution_count": 7,
     "metadata": {},
     "output_type": "execute_result"
    }
   ],
   "source": [
    "images.shape, labels.shape"
   ]
  },
  {
   "cell_type": "markdown",
   "id": "39fac921-4672-447e-87d1-dc41037ac5f2",
   "metadata": {},
   "source": [
    "Run the Stratified KFold split and generate train and valid datasets given the number of splits. \n",
    "\n",
    "The split percentage is calculated depending on the `n_splits` parameter:\n",
    "\n",
    "> train_percentage = int(100 * 1/n_splits)\n",
    ">\n",
    "> valid_percentage = 100 - train_percentage"
   ]
  },
  {
   "cell_type": "code",
   "execution_count": 8,
   "id": "b572c3f9-0e9a-43ff-a77b-fcb0712e893e",
   "metadata": {
    "scrolled": true
   },
   "outputs": [
    {
     "name": "stderr",
     "output_type": "stream",
     "text": [
      "/opt/conda/envs/env_py311/lib/python3.11/site-packages/sklearn/model_selection/_split.py:737: UserWarning: The least populated class in y has only 1 members, which is less than n_splits=4.\n",
      "  warnings.warn(\n"
     ]
    }
   ],
   "source": [
    "skf_image_ids, skf_labels, kf_image_ids, kf_labels = {}, {}, {}, {}\n",
    "\n",
    "n_splits = 4\n",
    "skf = StratifiedKFold(n_splits=n_splits, shuffle=True, random_state=42)\n",
    "kf = KFold(n_splits=n_splits, shuffle=True, random_state=42)\n",
    "# skf = MultilabelStratifiedKFold(n_splits=n_splits, shuffle=True, random_state=0)\n",
    "\n",
    "for i, (train_index, valid_index) in enumerate(skf.split(images, labels)):\n",
    "    skf_image_ids[i] = {'train': images[train_index], 'valid': images[valid_index]}\n",
    "    skf_labels[i] = {'train': labels[train_index], 'valid': labels[valid_index]}\n",
    "\n",
    "for i, (train_index, valid_index) in enumerate(kf.split(images, labels)):\n",
    "    kf_image_ids[i] = {'train': images[train_index], 'valid': images[valid_index]}\n",
    "    kf_labels[i] = {'train': labels[train_index], 'valid': labels[valid_index]}"
   ]
  },
  {
   "cell_type": "code",
   "execution_count": 9,
   "id": "8f2cf6ca-b6e4-4c35-8a9c-b37b7c07c288",
   "metadata": {},
   "outputs": [
    {
     "data": {
      "text/plain": [
       "(765, 254)"
      ]
     },
     "execution_count": 9,
     "metadata": {},
     "output_type": "execute_result"
    }
   ],
   "source": [
    "len(train_index), len(valid_index)"
   ]
  },
  {
   "cell_type": "code",
   "execution_count": 10,
   "id": "c522ef0b-b05a-4094-87ec-e9621d1558d3",
   "metadata": {
    "scrolled": true
   },
   "outputs": [
    {
     "data": {
      "text/plain": [
       "(4, 'splits')"
      ]
     },
     "execution_count": 10,
     "metadata": {},
     "output_type": "execute_result"
    }
   ],
   "source": [
    "len(skf_image_ids), 'splits'"
   ]
  },
  {
   "cell_type": "markdown",
   "id": "5349dca5-6f45-4df6-a105-2d5e9b43d16c",
   "metadata": {},
   "source": [
    "**Ensure that there are no image ids present in both splits.**"
   ]
  },
  {
   "cell_type": "code",
   "execution_count": 11,
   "id": "0ccd44a3-1992-405c-a036-e9bc4ec214ac",
   "metadata": {
    "scrolled": true
   },
   "outputs": [
    {
     "name": "stdout",
     "output_type": "stream",
     "text": [
      "intersection 0\n",
      "intersection 0\n",
      "intersection 0\n",
      "intersection 0\n"
     ]
    }
   ],
   "source": [
    "for i in range(n_splits):\n",
    "    print(\"intersection\", len(np.intersect1d(skf_image_ids[i]['train'], skf_image_ids[i]['valid'])))"
   ]
  },
  {
   "cell_type": "markdown",
   "id": "a4fc6386-22ed-4c6d-b088-a9def54c5b97",
   "metadata": {},
   "source": [
    "**Ensure that the labels distribution is roughly the same between splits.**"
   ]
  },
  {
   "cell_type": "code",
   "execution_count": 12,
   "id": "9780846f-f180-4c1f-9a63-cb45666866ad",
   "metadata": {
    "scrolled": true
   },
   "outputs": [],
   "source": [
    "\n",
    "def percentages(n_splits, image_ids, labels):\n",
    "    labels_percentages = {}\n",
    "    for i in range(n_splits):\n",
    "        train_k, valid_k = 0, 0\n",
    "        train_labels_counts = {'0':0, '1':0, '2':0, '3':0, '4':0, '5':0}\n",
    "        valid_labels_counts = {'0':0, '1':0, '2':0, '3':0, '4':0, '5':0}\n",
    "        for j in range(len(image_ids[i]['train'])):\n",
    "            for cat in list(labels[i]['train'][j]):\n",
    "                train_labels_counts[cat] += 1\n",
    "                train_k+=1\n",
    "        \n",
    "        for j in range(len(image_ids[i]['valid'])):\n",
    "            for cat in list(labels[i]['valid'][j]):\n",
    "                valid_labels_counts[cat] += 1\n",
    "                valid_k+=1\n",
    "    \n",
    "        train_labels_counts = {cat:counts * 1.0/train_k for cat, counts in train_labels_counts.items()}\n",
    "        valid_labels_counts = {cat:counts * 1.0/valid_k for cat, counts in valid_labels_counts.items()}\n",
    "                \n",
    "        labels_percentages[i] = {'train':train_labels_counts, 'valid':  valid_labels_counts}\n",
    "        \n",
    "    return labels_percentages"
   ]
  },
  {
   "cell_type": "code",
   "execution_count": 13,
   "id": "7c807bfb-dfce-42b3-b47a-7c77af573639",
   "metadata": {
    "scrolled": true
   },
   "outputs": [
    {
     "data": {
      "text/plain": [
       "{0: {'train': {'0': 0.0,\n",
       "   '1': 0.2576008844665561,\n",
       "   '2': 0.007739082365948038,\n",
       "   '3': 0.23880597014925373,\n",
       "   '4': 0.2222222222222222,\n",
       "   '5': 0.2736318407960199},\n",
       "  'valid': {'0': 0.0,\n",
       "   '1': 0.2607260726072607,\n",
       "   '2': 0.006600660066006601,\n",
       "   '3': 0.2376237623762376,\n",
       "   '4': 0.22442244224422442,\n",
       "   '5': 0.2706270627062706}},\n",
       " 1: {'train': {'0': 0.0,\n",
       "   '1': 0.2585446527012128,\n",
       "   '2': 0.007166482910694598,\n",
       "   '3': 0.23759647188533628,\n",
       "   '4': 0.22381477398015434,\n",
       "   '5': 0.272877618522602},\n",
       "  'valid': {'0': 0.0,\n",
       "   '1': 0.2579034941763727,\n",
       "   '2': 0.008319467554076539,\n",
       "   '3': 0.24126455906821964,\n",
       "   '4': 0.21963394342762063,\n",
       "   '5': 0.27287853577371046}},\n",
       " 2: {'train': {'0': 0.0,\n",
       "   '1': 0.25897294312534513,\n",
       "   '2': 0.00717835450027609,\n",
       "   '3': 0.2390944229707344,\n",
       "   '4': 0.22308117062396465,\n",
       "   '5': 0.27167310877967976},\n",
       "  'valid': {'0': 0.0,\n",
       "   '1': 0.25662251655629137,\n",
       "   '2': 0.008278145695364239,\n",
       "   '3': 0.2367549668874172,\n",
       "   '4': 0.22185430463576158,\n",
       "   '5': 0.2764900662251656}},\n",
       " 3: {'train': {'0': 0.0,\n",
       "   '1': 0.25842076200993924,\n",
       "   '2': 0.007730535615681944,\n",
       "   '3': 0.23854224185532855,\n",
       "   '4': 0.22197680839315295,\n",
       "   '5': 0.27332965212589727},\n",
       "  'valid': {'0': 0.0,\n",
       "   '1': 0.2582781456953642,\n",
       "   '2': 0.006622516556291391,\n",
       "   '3': 0.23841059602649006,\n",
       "   '4': 0.2251655629139073,\n",
       "   '5': 0.271523178807947}}}"
      ]
     },
     "execution_count": 13,
     "metadata": {},
     "output_type": "execute_result"
    }
   ],
   "source": [
    "labels_percentages_skf = percentages(n_splits, skf_image_ids, skf_labels)\n",
    "labels_percentages_kf = percentages(n_splits, kf_image_ids, kf_labels)\n",
    "labels_percentages_skf"
   ]
  },
  {
   "cell_type": "code",
   "execution_count": 14,
   "id": "cc0d1c3b-9309-4bf6-aa54-53a29ea70ca4",
   "metadata": {
    "scrolled": true
   },
   "outputs": [
    {
     "data": {
      "text/plain": [
       "{0: {'train': {'0': 0.0,\n",
       "   '1': 0.26170798898071623,\n",
       "   '2': 0.007713498622589532,\n",
       "   '3': 0.23856749311294767,\n",
       "   '4': 0.22258953168044077,\n",
       "   '5': 0.2694214876033058},\n",
       "  'valid': {'0': 0.0,\n",
       "   '1': 0.24833333333333332,\n",
       "   '2': 0.006666666666666667,\n",
       "   '3': 0.23833333333333334,\n",
       "   '4': 0.22333333333333333,\n",
       "   '5': 0.2833333333333333}},\n",
       " 1: {'train': {'0': 0.0,\n",
       "   '1': 0.256198347107438,\n",
       "   '2': 0.007162534435261708,\n",
       "   '3': 0.2413223140495868,\n",
       "   '4': 0.2209366391184573,\n",
       "   '5': 0.2743801652892562},\n",
       "  'valid': {'0': 0.0,\n",
       "   '1': 0.265,\n",
       "   '2': 0.008333333333333333,\n",
       "   '3': 0.23,\n",
       "   '4': 0.22833333333333333,\n",
       "   '5': 0.2683333333333333}},\n",
       " 2: {'train': {'0': 0.0,\n",
       "   '1': 0.25686059275521406,\n",
       "   '2': 0.00823271130625686,\n",
       "   '3': 0.23874862788144896,\n",
       "   '4': 0.221185510428101,\n",
       "   '5': 0.27497255762897915},\n",
       "  'valid': {'0': 0.0,\n",
       "   '1': 0.2630691399662732,\n",
       "   '2': 0.00505902192242833,\n",
       "   '3': 0.23777403035413153,\n",
       "   '4': 0.22765598650927488,\n",
       "   '5': 0.26644182124789206}},\n",
       " 3: {'train': {'0': 0.0,\n",
       "   '1': 0.2587841606246514,\n",
       "   '2': 0.006692693809258227,\n",
       "   '3': 0.23535973229224763,\n",
       "   '4': 0.22643614054657,\n",
       "   '5': 0.2727272727272727},\n",
       "  'valid': {'0': 0.0,\n",
       "   '1': 0.2572347266881029,\n",
       "   '2': 0.00964630225080386,\n",
       "   '3': 0.24758842443729903,\n",
       "   '4': 0.21221864951768488,\n",
       "   '5': 0.2733118971061093}}}"
      ]
     },
     "execution_count": 14,
     "metadata": {},
     "output_type": "execute_result"
    }
   ],
   "source": [
    "labels_percentages_kf"
   ]
  },
  {
   "cell_type": "code",
   "execution_count": 15,
   "id": "fa174ab0-e461-481f-92f3-06ba8c3ebb68",
   "metadata": {
    "scrolled": true
   },
   "outputs": [
    {
     "data": {
      "image/png": "[encoded data removed]",
      "text/plain": [
       "<Figure size 640x480 with 1 Axes>"
      ]
     },
     "metadata": {},
     "output_type": "display_data"
    }
   ],
   "source": [
    "import matplotlib.pyplot as plt\n",
    "import numpy as np\n",
    "\n",
    "results = labels_percentages_kf\n",
    "results_skf = labels_percentages_skf\n",
    "\n",
    "colors = ['#89D8CD', '#9F156480', '#FFBCF880', '#FFBCF880', '#FFBCF880']\n",
    "\n",
    "label_diffs = {i: {label: abs(results[i]['train'][label] - results[i]['valid'][label])\n",
    "                   for label in results[i]['train']} for i in results}\n",
    "label_diffs_skf = {i: {label: abs(results_skf[i]['train'][label] - results_skf[i]['valid'][label])\n",
    "                   for label in results_skf[i]['train']} for i in results_skf}\n",
    "\n",
    "diff_array = np.array([[label_diffs[iteration][label] for label in sorted(label_diffs[iteration])]\n",
    "                       for iteration in sorted(label_diffs)])\n",
    "mean_array = np.array([np.mean(diff_array[:, i]) for i in range(diff_array.shape[0])])\n",
    "\n",
    "diff_array_skf = np.array([[label_diffs_skf[iteration][label] for label in sorted(label_diffs_skf[iteration])]\n",
    "                       for iteration in sorted(label_diffs_skf)])\n",
    "mean_array_skf = np.array([np.mean(diff_array_skf[:, i]) for i in range(diff_array_skf.shape[0])])\n",
    "\n",
    "\n",
    "indices = np.arange(len(mean_array))\n",
    "# bar width\n",
    "width = 0.3\n",
    "\n",
    "fig, ax = plt.subplots()\n",
    "bars1 = ax.bar(indices - width/2, mean_array, width, label='K-fold', color='skyblue')\n",
    "bars2 = ax.bar(indices + width/2, mean_array_skf, width, label='Stratified K-fold', color='#C16FA3')\n",
    "\n",
    "plt.xlabel('k', fontsize=14)\n",
    "plt.ylabel('Mean difference (Train - Valid)', fontsize=14)\n",
    "ax.set_xticks(indices)\n",
    "ax.set_xticklabels([str(i) for i in indices])\n",
    "ax.legend()\n",
    "plt.savefig('./plots/kf_skf_errors.png', dpi=400)\n",
    "plt.show()"
   ]
  },
  {
   "cell_type": "code",
   "execution_count": 16,
   "id": "fd049e73-1046-41b8-a43f-1a106dfc283d",
   "metadata": {},
   "outputs": [
    {
     "data": {
      "text/plain": [
       "(array([0.        , 0.00748357, 0.00208623, 0.00618994]),\n",
       " array([0.        , 0.00156485, 0.0011248 , 0.00183035]))"
      ]
     },
     "execution_count": 16,
     "metadata": {},
     "output_type": "execute_result"
    }
   ],
   "source": [
    "mean_array, mean_array_skf"
   ]
  },
  {
   "cell_type": "code",
   "execution_count": 17,
   "id": "8f3328dc-8bd1-4864-9946-f0a5cd9f58f4",
   "metadata": {},
   "outputs": [
    {
     "data": {
      "text/plain": [
       "((4, 6),\n",
       " array([[0.00000000e+00, 3.12518814e-03, 1.13842230e-03, 1.18220777e-03,\n",
       "         2.20022002e-03, 3.00477809e-03],\n",
       "        [0.00000000e+00, 6.41158525e-04, 1.15298464e-03, 3.66808718e-03,\n",
       "         4.18083055e-03, 9.17251108e-07],\n",
       "        [0.00000000e+00, 2.35042657e-03, 1.09979120e-03, 2.33945608e-03,\n",
       "         1.22686599e-03, 4.81695745e-03],\n",
       "        [0.00000000e+00, 1.42616315e-04, 1.10801906e-03, 1.31645829e-04,\n",
       "         3.18875452e-03, 1.80647332e-03]]))"
      ]
     },
     "execution_count": 17,
     "metadata": {},
     "output_type": "execute_result"
    }
   ],
   "source": [
    "diff_array.shape, diff_array_skf"
   ]
  },
  {
   "cell_type": "code",
   "execution_count": 18,
   "id": "8fbb69d4-9479-4050-b110-86d807b35c6e",
   "metadata": {},
   "outputs": [
    {
     "data": {
      "text/plain": [
       "0.0"
      ]
     },
     "execution_count": 18,
     "metadata": {},
     "output_type": "execute_result"
    }
   ],
   "source": [
    "np.mean(diff_array[:, 0])"
   ]
  },
  {
   "cell_type": "code",
   "execution_count": 19,
   "id": "1814aaec-f8c4-443c-8cf0-17b51424d92a",
   "metadata": {},
   "outputs": [
    {
     "data": {
      "text/plain": [
       "array([[0.        , 0.01337466, 0.00104683, 0.00023416, 0.0007438 ,\n",
       "        0.01391185],\n",
       "       [0.        , 0.00880165, 0.0011708 , 0.01132231, 0.00739669,\n",
       "        0.00604683],\n",
       "       [0.        , 0.00620855, 0.00317369, 0.0009746 , 0.00647048,\n",
       "        0.00853074],\n",
       "       [0.        , 0.00154943, 0.00295361, 0.01222869, 0.01421749,\n",
       "        0.00058462]])"
      ]
     },
     "execution_count": 19,
     "metadata": {},
     "output_type": "execute_result"
    }
   ],
   "source": [
    "diff_array"
   ]
  },
  {
   "cell_type": "markdown",
   "id": "11674408-61aa-4535-9e81-1412010cdc17",
   "metadata": {},
   "source": [
    "## Update the dataset and save new annotations files"
   ]
  },
  {
   "cell_type": "code",
   "execution_count": 20,
   "id": "32fa1be5-48ee-4cf0-871c-759602e5548f",
   "metadata": {
    "scrolled": true
   },
   "outputs": [
    {
     "name": "stdout",
     "output_type": "stream",
     "text": [
      "764 255\n",
      "764 255\n",
      "Files moved successfully.\n",
      "764 255\n",
      "764 255\n",
      "Files moved successfully.\n",
      "764 255\n",
      "764 255\n",
      "Files moved successfully.\n",
      "765 254\n",
      "765 254\n",
      "Files moved successfully.\n"
     ]
    }
   ],
   "source": [
    "import shutil\n",
    "import os\n",
    "\n",
    "def make_split(data_in, train_index, valid_index):\n",
    "    \n",
    "    data_in_train = data_in.copy()\n",
    "    data_in_valid = data_in.copy()\n",
    "    \n",
    "    data_in_train['images'] = [data_in['images'][train_index[i][0]] for i in range(len(train_index))]\n",
    "    data_in_valid['images'] = [data_in['images'][valid_index[i][0]] for i in range(len(valid_index))]\n",
    "    train_annot_ids, valid_annot_ids = [], []\n",
    "    \n",
    "    for img_i in data_in_train['images']:\n",
    "        annotation_ids = [annot['id'] for annot in data_in_train['annotations'] if annot['image_id'] == img_i['id']]\n",
    "        train_annot_ids +=annotation_ids\n",
    "        \n",
    "    for img_i in data_in_valid['images']:\n",
    "        annotation_ids = [annot['id'] for annot in data_in_valid['annotations'] if annot['image_id'] == img_i['id']]\n",
    "        valid_annot_ids +=annotation_ids\n",
    "        \n",
    "    data_in_train['annotations'] = [data_in_train['annotations'][id] for id in train_annot_ids]\n",
    "    data_in_valid['annotations'] = [data_in_valid['annotations'][id] for id in valid_annot_ids]\n",
    "    \n",
    "    print(len(data_in_train['images']), len(data_in_valid['images']))\n",
    "    return data_in_train, data_in_valid\n",
    "\n",
    "for i in range(n_splits):\n",
    "    dest_train_path_i = dest_path + f'train_{i+1}/'\n",
    "    dest_valid_path_i = dest_path + f'valid_{i+1}/'\n",
    "    os.mkdir(dest_train_path_i)\n",
    "    os.mkdir(dest_valid_path_i)\n",
    "    new_train_json_path = dest_train_path_i+'skf_train_annotations.coco.json'\n",
    "    new_valid_json_path = dest_valid_path_i+'skf_valid_annotations.coco.json'\n",
    "    data_in_train_i, data_in_valid_i = make_split(data_in, skf_image_ids[i]['train'], skf_image_ids[i]['valid'])\n",
    "\n",
    "    with open(new_train_json_path, 'w') as f1, open(new_valid_json_path, 'w') as f2:\n",
    "        json.dump(data_in_train_i, f1, indent=4)\n",
    "        json.dump(data_in_valid_i, f2, indent=4)\n",
    "\n",
    "    # Copy the filenames to the corresponding split directories\n",
    "    train_filenames_i = list(set([image['file_name'] for image in data_in_train_i['images']]))\n",
    "    valid_filenames_i = list(set([image['file_name'] for image in data_in_valid_i['images']]))\n",
    "    print(len(train_filenames_i), len(valid_filenames_i))\n",
    "    \n",
    "    for filename in train_filenames_i:\n",
    "        source_path = os.path.join(dataset_path+'train/', filename)\n",
    "        dest_path_f = os.path.join(dest_train_path_i, filename)\n",
    "        shutil.copy(source_path, dest_path_f)\n",
    "\n",
    "    for filename in valid_filenames_i:\n",
    "        source_path = os.path.join(dataset_path+'train/', filename)\n",
    "        dest_path_f = os.path.join(dest_valid_path_i, filename)\n",
    "        shutil.copy(source_path, dest_path_f)\n",
    "    \n",
    "    print(\"Files moved successfully.\")"
   ]
  },
  {
   "cell_type": "markdown",
   "id": "d190a8b4-6853-4d67-9b7e-782b5a90ec9d",
   "metadata": {},
   "source": [
    "# Convert COCO annotations to YOLO segmentation (Optional)"
   ]
  },
  {
   "cell_type": "code",
   "execution_count": 6,
   "id": "1cdb899b-9511-402f-801d-8c172792f3bc",
   "metadata": {
    "scrolled": true
   },
   "outputs": [
    {
     "name": "stdout",
     "output_type": "stream",
     "text": [
      "Processed 764 files.\n",
      "Processed 255 files.\n",
      "YAML file ./roboflow_datasets/xmm_om_artefacts_512-28-YOLO-splits/_1_data.yaml created and saved.\n",
      "Processed 764 files.\n",
      "Processed 255 files.\n",
      "YAML file ./roboflow_datasets/xmm_om_artefacts_512-28-YOLO-splits/_2_data.yaml created and saved.\n",
      "Processed 764 files.\n",
      "Processed 255 files.\n",
      "YAML file ./roboflow_datasets/xmm_om_artefacts_512-28-YOLO-splits/_3_data.yaml created and saved.\n",
      "Processed 765 files.\n",
      "Processed 254 files.\n",
      "YAML file ./roboflow_datasets/xmm_om_artefacts_512-28-YOLO-splits/_4_data.yaml created and saved.\n"
     ]
    }
   ],
   "source": [
    "# TODO: convert to YOLO segm, not bbox only\n",
    "from dataset import coco_to_yolo_converter\n",
    "import yaml \n",
    "\n",
    "convert = True\n",
    "\n",
    "if convert:\n",
    "\n",
    "    classes = [str(cat['name']) for cat in data_in['categories'] if 'artefacts' not in cat['name']]\n",
    "    absolute_path = '/workspace/raid/OM_DeepLearning/XMM_OM_code_git/'\n",
    "    for iter in range(1,4+1):\n",
    "        for mode in ['train', 'valid']:\n",
    "            \n",
    "            input_path = f\"./roboflow_datasets/xmm_om_artefacts_512-28-COCO-splits/{mode}_{iter}/\"\n",
    "\n",
    "            # adding '/' at the end will give an error for the parent directory\n",
    "            output_path = f\"./roboflow_datasets/xmm_om_artefacts_512-28-YOLO-splits/{mode}_{iter}\" \n",
    "            input_json_train = f\"skf_{mode}_annotations.coco.json\"\n",
    "            converter = coco_to_yolo_converter.COCOToYOLOConverter(input_path, output_path, input_json_train, plot_yolo_masks=False)\n",
    "            converter.convert()\n",
    "            \n",
    "            # generate data.yaml\n",
    "            yaml_path = os.path.dirname(output_path)+f'/_{iter}_data.yaml'\n",
    "\n",
    "            # Create the initial data structure\n",
    "            if mode =='valid': # train and valid folder successfully created\n",
    "                yolo_data = {\n",
    "                    'names': classes,\n",
    "                    'nc': len(classes),\n",
    "                    'train': f'{os.path.join(absolute_path, os.path.dirname(output_path)).replace(\".\", \"\").replace(\"//\", \"/\")}/train_{iter}/images',\n",
    "                    'val': f'{os.path.join(absolute_path, os.path.dirname(output_path)).replace(\".\", \"\").replace(\"//\", \"/\")}/valid_{iter}/images'\n",
    "                }\n",
    "                \n",
    "                # Write the data to a YAML file\n",
    "                with open(yaml_path, 'w') as file:\n",
    "                    yaml.dump(yolo_data, file, default_flow_style=False)\n",
    "                \n",
    "                print(f\"YAML file {yaml_path} created and saved.\")"
   ]
  }
 ],
 "metadata": {
  "kernelspec": {
   "display_name": "env_py311",
   "language": "python",
   "name": "env_py311"
  },
  "language_info": {
   "codemirror_mode": {
    "name": "ipython",
    "version": 3
   },
   "file_extension": ".py",
   "mimetype": "text/x-python",
   "name": "python",
   "nbconvert_exporter": "python",
   "pygments_lexer": "ipython3",
   "version": "3.11.7"
  },
  "widgets": {
   "application/vnd.jupyter.widget-state+json": {
    "state": {},
    "version_major": 2,
    "version_minor": 0
   }
  }
 },
 "nbformat": 4,
 "nbformat_minor": 5
}
