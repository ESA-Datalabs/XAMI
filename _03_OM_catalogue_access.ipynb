{
 "cells": [
  {
   "cell_type": "code",
   "execution_count": null,
   "id": "16ecd2ce-8741-4bbf-8f0b-1d4d6effc56b",
   "metadata": {},
   "outputs": [],
   "source": [
    "#pip install --pre --upgrade astroquery \n",
    "from astroquery.esa.xmm_newton import XMMNewton "
   ]
  },
  {
   "cell_type": "code",
   "execution_count": null,
   "id": "4a759cff-3138-4d68-9b1c-3ed5d45d34ab",
   "metadata": {
    "scrolled": true
   },
   "outputs": [],
   "source": [
    "# get all tables of XMM\n",
    "tbls = XMMNewton.get_tables(only_names=True) \n",
    "om_tbls = [tb for tb in tbls if \"om\" in tb]\n",
    "om_tbls"
   ]
  },
  {
   "cell_type": "code",
   "execution_count": null,
   "id": "69a0d7ed-e26a-4979-9a59-3ea326da0c0d",
   "metadata": {
    "scrolled": true
   },
   "outputs": [],
   "source": [
    "# get all columns of a  table\n",
    "XMMNewton.get_columns(om_tbls[0])#, XMMNewton.get_columns(om_tbls[1])"
   ]
  },
  {
   "cell_type": "code",
   "execution_count": null,
   "id": "6ac728dd-75a4-417d-a6ed-1698cb9c24c2",
   "metadata": {},
   "outputs": [],
   "source": [
    "om_tbl = om_tbls[0]"
   ]
  },
  {
   "cell_type": "code",
   "execution_count": null,
   "id": "68073aaa-8a8f-44d5-a2f5-c7b86cb6ecbe",
   "metadata": {
    "scrolled": true
   },
   "outputs": [],
   "source": [
    "queryy = f\"select * from {om_tbl} where observation_id='0094360601'\"\n",
    "result = XMMNewton.query_xsa_tap(queryy, output_format='csv') # output_file='results10.csv'\n",
    "result"
   ]
  },
  {
   "cell_type": "code",
   "execution_count": null,
   "id": "c7164ae3-e29a-43d2-aab5-341655e7b958",
   "metadata": {},
   "outputs": [],
   "source": [
    "ra_coords = result['ra']\n",
    "dec_coords = result['dec']"
   ]
  },
  {
   "cell_type": "code",
   "execution_count": null,
   "id": "d0888aff-a7d3-476a-b766-dfd0e22cd848",
   "metadata": {},
   "outputs": [],
   "source": [
    "ra_coords.min(), ra_coords.max(), ra_coords.std()"
   ]
  },
  {
   "cell_type": "code",
   "execution_count": null,
   "id": "83d00ca3-50f9-4362-88bb-669b5331f5b9",
   "metadata": {},
   "outputs": [],
   "source": [
    "dec_coords.min(), dec_coords.max(), dec_coords.std()"
   ]
  }
 ],
 "metadata": {
  "kernelspec": {
   "display_name": "py310_env",
   "language": "python",
   "name": "py310"
  },
  "language_info": {
   "codemirror_mode": {
    "name": "ipython",
    "version": 3
   },
   "file_extension": ".py",
   "mimetype": "text/x-python",
   "name": "python",
   "nbconvert_exporter": "python",
   "pygments_lexer": "ipython3",
   "version": "3.10.13"
  },
  "widgets": {
   "application/vnd.jupyter.widget-state+json": {
    "state": {},
    "version_major": 2,
    "version_minor": 0
   }
  }
 },
 "nbformat": 4,
 "nbformat_minor": 5
}
