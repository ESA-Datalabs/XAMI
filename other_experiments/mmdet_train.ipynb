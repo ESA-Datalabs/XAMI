{
 "cells": [
  {
   "cell_type": "code",
   "execution_count": null,
   "id": "05d78326-8d99-43e6-a3e0-d0b857a8894f",
   "metadata": {},
   "outputs": [],
   "source": [
    "import os\n",
    "\n",
    "img_dir = '../XMM_OM_dataset/zscaled_512_stretched/'\n",
    "new_files = os.listdir(img_dir)[700:702]"
   ]
  },
  {
   "cell_type": "code",
   "execution_count": null,
   "id": "3fc1a819-d6f8-49d6-baea-510b8cd37a5e",
   "metadata": {
    "scrolled": true
   },
   "outputs": [],
   "source": [
    "import mmcv\n",
    "from mmengine.hub import get_config\n",
    "\n",
    "from mmdet.apis import init_detector, inference_detector\n",
    "img = mmcv.imread(img_dir+new_files[0], channel_order='rgb')\n",
    "checkpoint_file = './work_dir/epoch_36.pth'\n",
    "\n",
    "training_config = \"mask-rcnn_swin-t-p4-w7_fpn_amp-ms-crop-3x_coco.py\"\n",
    "model_architecture_family = 'swin'\n",
    "\n",
    "cfg = get_config(f'mmdet::{model_architecture_family}/{training_config}')\n",
    "\n",
    "\n",
    "model = init_detector(cfg, checkpoint_file, device='cpu')\n",
    "new_result = inference_detector(model, img)\n",
    "print(new_result)"
   ]
  },
  {
   "cell_type": "code",
   "execution_count": null,
   "id": "db936182-28c0-41c6-b5f0-185e2549709b",
   "metadata": {},
   "outputs": [],
   "source": [
    "from mmdet.registry import VISUALIZERS\n",
    "# init visualizer(run the block only once in jupyter notebook)\n",
    "visualizer = VISUALIZERS.build(model.cfg.visualizer)\n",
    "# the dataset_meta is loaded from the checkpoint and\n",
    "# then pass to the model in init_detector\n",
    "visualizer.dataset_meta = model.dataset_meta\n",
    "\n",
    "from mmengine.visualization import Visualizer\n",
    "# get built visualizer\n",
    "visualizer_now = Visualizer.get_current_instance()\n",
    "# the dataset_meta is loaded from the checkpoint and\n",
    "# then pass to the model in init_detector\n",
    "visualizer_now.dataset_meta = model.dataset_meta\n",
    "# show the results\n",
    "visualizer_now.add_datasample(\n",
    "    'new_result',\n",
    "    img,\n",
    "    data_sample=new_result,\n",
    "    draw_gt=False,\n",
    "    wait_time=0,\n",
    "    out_file=None,\n",
    "    pred_score_thr=0.5\n",
    ")\n",
    "visualizer_now.show()"
   ]
  }
 ],
 "metadata": {
  "kernelspec": {
   "display_name": "openmmlab_3_k",
   "language": "python",
   "name": "openmmlab_3_k"
  },
  "language_info": {
   "codemirror_mode": {
    "name": "ipython",
    "version": 3
   },
   "file_extension": ".py",
   "mimetype": "text/x-python",
   "name": "python",
   "nbconvert_exporter": "python",
   "pygments_lexer": "ipython3",
   "version": "3.8.18"
  },
  "widgets": {
   "application/vnd.jupyter.widget-state+json": {
    "state": {},
    "version_major": 2,
    "version_minor": 0
   }
  }
 },
 "nbformat": 4,
 "nbformat_minor": 5
}
