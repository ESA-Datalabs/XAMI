{
 "cells": [
  {
   "cell_type": "code",
   "execution_count": null,
   "id": "9ec020bc-1a2d-427e-9fb9-35a8681d58c5",
   "metadata": {},
   "outputs": [],
   "source": [
    "import pandas as pd\n",
    "\n",
    "zooniverse_df = pd.read_csv(\"./ai-for-artefacts-in-sky-images-classifications (5).csv\")\n",
    "zooniverse_df  = zooniverse_df[zooniverse_df['workflow_id']==25237]"
   ]
  },
  {
   "cell_type": "code",
   "execution_count": null,
   "id": "8498cbd8-d9ad-43c2-89a3-29e23255f919",
   "metadata": {},
   "outputs": [],
   "source": [
    "import numpy as np\n",
    "\n",
    "np.unique(zooniverse_df['user_name']), np.unique(zooniverse_df['workflow_id'])"
   ]
  },
  {
   "cell_type": "code",
   "execution_count": null,
   "id": "32a05834-0d6e-4277-ba4c-9a9ad735660f",
   "metadata": {
    "scrolled": true
   },
   "outputs": [],
   "source": [
    "zooniverse_df = zooniverse_df[zooniverse_df['workflow_id']==25237]\n",
    "zooniverse_df"
   ]
  },
  {
   "cell_type": "markdown",
   "id": "0ae3b4a8-0564-4f39-891d-907813574d35",
   "metadata": {},
   "source": [
    "convert csv string column to list"
   ]
  },
  {
   "cell_type": "code",
   "execution_count": null,
   "id": "d471c4a8-6406-44f4-b732-5420f40d37bc",
   "metadata": {},
   "outputs": [],
   "source": [
    "import json\n",
    "zooniverse_df['annotations'] = zooniverse_df['annotations'].apply(lambda x:json.loads(x))"
   ]
  },
  {
   "cell_type": "code",
   "execution_count": 59,
   "id": "e80186e8-d4a4-4890-baf9-e8e1d478df30",
   "metadata": {
    "scrolled": true
   },
   "outputs": [
    {
     "name": "stdout",
     "output_type": "stream",
     "text": [
      "172\n"
     ]
    }
   ],
   "source": [
    "for i in range (len(zooniverse_df)):\n",
    "    subj_data = zooniverse_df['subject_data'][i]#['Filename']\n",
    "    for k in zooniverse_df['subject_data'][i].keys():\n",
    "        dict_val = zooniverse_df['subject_data'][i][k]\n",
    "        # print(dict_val)\n",
    "        if 'Observation' in dict_val.keys():\n",
    "            # print(zooniverse_df['subject_data'][i][k]['Observation'])\n",
    "            if 'S0404420101_L' in zooniverse_df['subject_data'][i][k]['Observation']:\n",
    "                print(i)"
   ]
  },
  {
   "cell_type": "code",
   "execution_count": 39,
   "id": "9a7d289c-6126-4b4c-a226-60a990b304f8",
   "metadata": {},
   "outputs": [
    {
     "data": {
      "text/plain": [
       "{'458030': {'retired': None,\n",
       "  'link': 'https://www.flickr.com/photos/alishav/3278443166',\n",
       "  'origin': 'Flickr',\n",
       "  'license': 'Creative Commons - share adapt attribute',\n",
       "  'image_name': '3278443166_9eecc2ca0b_z.jpg',\n",
       "  'subject_id': 10,\n",
       "  'attribution': 'Alisha Vargas'}}"
      ]
     },
     "execution_count": 39,
     "metadata": {},
     "output_type": "execute_result"
    }
   ],
   "source": [
    "zooniverse_df['subject_data'][0]"
   ]
  },
  {
   "cell_type": "code",
   "execution_count": null,
   "id": "550ef208-d75f-4526-be22-12759bebd9d9",
   "metadata": {
    "scrolled": true
   },
   "outputs": [],
   "source": [
    "zooniverse_df['subject_data'] = zooniverse_df['subject_data'].apply(lambda x:json.loads(x))"
   ]
  },
  {
   "cell_type": "code",
   "execution_count": null,
   "id": "a1ac8177-77ac-4918-8d7b-9508cc85f2d4",
   "metadata": {},
   "outputs": [],
   "source": [
    "zooniverse_df['annotations'][0][0].keys()"
   ]
  },
  {
   "cell_type": "code",
   "execution_count": null,
   "id": "bfc6ddda-c932-4224-b063-2b892f0ac7d3",
   "metadata": {
    "scrolled": true
   },
   "outputs": [],
   "source": [
    "task_labels = []\n",
    "\n",
    "for annot in zooniverse_df['annotations']:\n",
    "    if annot[0]['task_label'] not in task_labels:\n",
    "        task_labels.append(annot[0]['task_label'])"
   ]
  },
  {
   "cell_type": "code",
   "execution_count": null,
   "id": "6706b641-636b-44db-b675-a7a30dbcbb86",
   "metadata": {},
   "outputs": [],
   "source": [
    "task_labels"
   ]
  },
  {
   "cell_type": "code",
   "execution_count": null,
   "id": "26089587-a4fe-495e-b27a-7fc6738238e1",
   "metadata": {
    "scrolled": true
   },
   "outputs": [],
   "source": [
    "k=0\n",
    "for i in range(len(zooniverse_df['annotations'])):\n",
    "    if zooniverse_df['annotations'][i][0]['task_label'] == 'Does the image have artefacts in it?' and \\\n",
    "     zooniverse_df['annotations'][i][0]['value'] in ['The image has artefacts. ', 'The image has **NO** artefacts.']:\n",
    "        k+=1\n",
    "        if len(zooniverse_df['annotations'][i])==1: # usually 'The image has **NO** artefacts.'\n",
    "            print(zooniverse_df['annotations'][i][0]['value'], zooniverse_df['subject_data'][i])"
   ]
  },
  {
   "cell_type": "code",
   "execution_count": null,
   "id": "cc06af34-577b-40ee-af09-0031506f88ae",
   "metadata": {},
   "outputs": [],
   "source": [
    "from dataset import dataset_utils\n",
    "import cv2"
   ]
  },
  {
   "cell_type": "code",
   "execution_count": null,
   "id": "6712f8c3-2a49-4dd5-af1e-709ae4a47317",
   "metadata": {},
   "outputs": [],
   "source": [
    "no_artefacts_images= []\n",
    "images_dir = '../XMM_OM_dataset/zscaled_512_stretched/'"
   ]
  },
  {
   "cell_type": "code",
   "execution_count": null,
   "id": "89808dea-b5ee-4b81-8857-75949d1c1ce7",
   "metadata": {
    "scrolled": true
   },
   "outputs": [],
   "source": [
    "for i in range(len(zooniverse_df['annotations'])):\n",
    "    if zooniverse_df['annotations'][i][0]['task_label'] == 'Does the image have artefacts in it?' and \\\n",
    "     zooniverse_df['annotations'][i][0]['value'] in ['The image has artefacts. ', 'The image has **NO** artefacts.']:\n",
    "        subject_data_key = list(zooniverse_df['subject_data'][i])[0] # Python 3.7 or later\n",
    "        subject_data_key = zooniverse_df['subject_data'][i][subject_data_key]\n",
    "        # print(subject_data_key)\n",
    "        if 'metadata' in subject_data_key:\n",
    "            image_name = subject_data_key['metadata'] \n",
    "        elif 'Observation' in subject_data_key:\n",
    "            image_name = subject_data_key['Observation'] \n",
    "            annot = zooniverse_df['annotations'][i]\n",
    "            if len(annot) <=1: # usually no annotations in the image or 'The image has **NO** artefacts.'\n",
    "                if image_name not in no_artefacts_images:\n",
    "                    no_artefacts_images.append(image_name)\n",
    "            else:\n",
    "                print(annot)\n",
    "                image = cv2.imread(images_dir+image_name+'.png')\n",
    "                image = cv2.cvtColor(image, cv2.COLOR_BGR2RGB)\n",
    "                masks, gt_classes, boxes = [], [], []\n",
    "                for i in range(len(annot[1]['value'])):\n",
    "                    value_key = annot[1]['value'][i]\n",
    "                    tool_label = value_key['tool_label']\n",
    "                    tool = value_key['tool']\n",
    "                    frame = value_key['frame']\n",
    "                    details = value_key['details']\n"
   ]
  },
  {
   "cell_type": "code",
   "execution_count": null,
   "id": "f10a9236-21e2-44a2-a516-fc87f4fd84d7",
   "metadata": {},
   "outputs": [],
   "source": [
    "# value\n",
    "# 0:central-ring\n",
    "# 1:read-out-streak\n",
    "# 2:smoke-ring\n",
    "# 3:star-loop\n",
    "# 4:other"
   ]
  },
  {
   "cell_type": "code",
   "execution_count": null,
   "id": "d0ed4878-ab46-4f40-b5df-426b3cccbd7c",
   "metadata": {},
   "outputs": [],
   "source": [
    "values_dict = {\n",
    "    0:'central-ring',\n",
    "    1:'read-out-streak',\n",
    "    2:'smoke-ring',\n",
    "    3:'star-loop',\n",
    "    4:'other'}"
   ]
  },
  {
   "cell_type": "code",
   "execution_count": null,
   "id": "b6b89e55-88b3-472d-adfe-6a337c7584ae",
   "metadata": {
    "scrolled": true
   },
   "outputs": [],
   "source": [
    "import matplotlib.pyplot as plt\n",
    "import cv2\n",
    "k=0\n",
    "\n",
    "images_dict = {}\n",
    "\n",
    "images_dir = '../XMM_OM_dataset/zscaled_512_stretched/'\n",
    "no_artefacts_images = []\n",
    "for i in range(len(zooniverse_df['annotations'])):\n",
    "    if zooniverse_df['annotations'][i][0]['task_label'] == 'Does the image have artefacts in it?' and \\\n",
    "     zooniverse_df['annotations'][i][0]['value'] in ['The image has artefacts. ', 'The image has **NO** artefacts.']:\n",
    "        subject_data_key = list(zooniverse_df['subject_data'][i])[0] # Python 3.7 or later\n",
    "        subject_data_key = zooniverse_df['subject_data'][i][subject_data_key]\n",
    "        if 'metadata' in subject_data_key:\n",
    "            image_name = subject_data_key['metadata'] \n",
    "        elif 'Observation' in subject_data_key:\n",
    "            image_name = subject_data_key['Observation'] \n",
    "            annot = zooniverse_df['annotations'][i]\n",
    "            if len(annot) <=1: # usually no annotations in the image or 'The image has **NO** artefacts.'\n",
    "                if image_name not in no_artefacts_images:\n",
    "                    no_artefacts_images.append(image_name)\n",
    "            else:\n",
    "                image = cv2.imread(images_dir+image_name+'.png')\n",
    "                image = cv2.cvtColor(image, cv2.COLOR_BGR2RGB)\n",
    "                masks, gt_classes, boxes = [], [], []\n",
    "                for i in range(len(annot[1]['value'])):\n",
    "                    value_key = annot[1]['value'][i]\n",
    "                    tool_label = value_key['tool_label']\n",
    "                    tool = value_key['tool']\n",
    "                    frame = value_key['frame']\n",
    "                    details = value_key['details']\n",
    "\n",
    "                    # 0:Polygon\n",
    "                    # 1:Bounding box (useful for **read-out-streaks**)\n",
    "                    # 2:Free form\n",
    "                    print(details[0]['value'])\n",
    "\n",
    "                    if details[0]['value'] is not None:\n",
    "                        print('label', values_dict[details[0]['value']])\n",
    "                        gt_classes.append(values_dict[details[0]['value']])\n",
    "                    else:\n",
    "                        print('Label is None!!')\n",
    "                        gt_classes.append('noone')\n",
    "                    if tool in [0, 2]:\n",
    "                        points = value_key['points']\n",
    "                        pts = np.array([[point['x']/1024.0*512, point['y']/1024.0*512] for point in points])\n",
    "                        pts = np.append(pts, [pts[0]], axis=0)\n",
    "                        pts = np.around(pts) # mathematically round coords\n",
    "                        pts = np.array(pts, dtype=np.int32)\n",
    "                        \n",
    "                        shape = (512, 512)  \n",
    "                        mask = np.zeros(shape, np.int16)\n",
    "                        cv2.fillPoly(mask, [pts], color=(255))\n",
    "                        masks.append(mask)\n",
    "                        mask_to_bbox = dataset_utils.mask_to_bbox(mask) # results in XYXY\n",
    "                        boxes.append(mask_to_bbox)\n",
    "\n",
    "                        # plt.imshow(mask)  # Display the mask in grayscale\n",
    "                        # plt.title('Mask from Points')\n",
    "                        # plt.axis('off')  # Hide axis ticks and labels\n",
    "                        # plt.show()\n",
    "                    else: \n",
    "                        bbox_coords = [value_key['x']/1024.0*512, value_key['y']/1024.0*512, value_key['width']/1024.0*512, value_key['height']/1024.0*512]\n",
    "                        bbox_coords = np.around(bbox_coords) # mathematically round coords\n",
    "                        bbox_coords = np.array(bbox_coords, dtype=np.int16)\n",
    "                        mask_shape = (512, 512) \n",
    "                        mask = np.zeros(mask_shape, dtype=np.uint8)\n",
    "                        \n",
    "                        # Draw a filled rectangle on the mask where the bounding box is\n",
    "                        cv2.rectangle(\n",
    "                            mask, \n",
    "                            (bbox_coords[0], bbox_coords[1]), \n",
    "                            (bbox_coords[2]+bbox_coords[0], bbox_coords[3]+bbox_coords[1]), \n",
    "                            color=(255), \n",
    "                            thickness=cv2.FILLED)\n",
    "\n",
    "                        masks.append(mask)\n",
    "                        boxes.append([bbox_coords[0], bbox_coords[1], bbox_coords[2]+bbox_coords[0], bbox_coords[3]+bbox_coords[1]])\n",
    "                        \n",
    "                        # # Display the mask\n",
    "                        # plt.imshow(mask)\n",
    "                        # plt.title('Mask from Bounding Box')\n",
    "                        # plt.axis('off')\n",
    "                        # plt.show()\n",
    "\n",
    "                    # gather info per image\n",
    "                    images_dict[image_name+'.png'] = {'masks': np.array(masks), \n",
    "                                                      'boxes': np.array(boxes), \n",
    "                                                      'classes':np.array(gt_classes)}\n",
    "                    \n",
    "                    print(tool, annot[1]['value'][i].keys(), tool_label)\n",
    "        else:\n",
    "            print(\"NO metadata\", zooniverse_df['annotations'][i])\n",
    "            \n",
    "        if subject_data_key['retired'] == None:\n",
    "            print('Retired', image_name)\n",
    "            continue\n",
    "        "
   ]
  },
  {
   "cell_type": "code",
   "execution_count": null,
   "id": "3c976591-cfb1-4ac0-a85b-55ce2c68d81e",
   "metadata": {
    "scrolled": true
   },
   "outputs": [],
   "source": [
    "images_dict#['S0742830141_L.png']['masks'].shape"
   ]
  },
  {
   "cell_type": "code",
   "execution_count": null,
   "id": "d93e0d5b-ffc9-450a-b71a-664d1dba1a19",
   "metadata": {
    "scrolled": true
   },
   "outputs": [],
   "source": [
    "import glob\n",
    "from roboflow import Roboflow\n",
    "import os\n",
    "from dataset import voc_annotate_and_Roboflow_export\n",
    "import cv2\n",
    "export_to_Roboflow = True\n",
    "\n",
    "if export_to_Roboflow:\n",
    "    # Initialize Roboflow client\n",
    "    rf = Roboflow(api_key=\"EBeK30tpU3HW2VGGl0xa\")\n",
    "    upload_project = rf.workspace(\"iuliaelisa\").project(\"xmm_om_artefacts_512\") # error if the project doesn't exist\n",
    "    \n",
    "def export_image_det_to_Roboflow(input_dir, filename, masks, classes, boxes):\n",
    "    \n",
    "    objects = []\n",
    "    for i in range(len(masks)):\n",
    "        mask_np = masks[i]/255 # [H, W]\n",
    "        polygon = voc_annotate_and_Roboflow_export.binary_image_to_polygon(mask_np)\n",
    "        objects.append({\n",
    "            'name': classes[i],\n",
    "            'bbox': boxes[i],\n",
    "            'segmentations': polygon[0]\n",
    "        })\n",
    "        \n",
    "    if len(objects)>0:\n",
    "        voc_annotate_and_Roboflow_export.create_annotation_SAM(\n",
    "            filename=filename, \n",
    "            width=512, \n",
    "            height=512, \n",
    "            depth=3, \n",
    "            objects=objects, \n",
    "            offset= 1.0) # generating xml file for VOC format\n",
    "        image_path = input_dir+filename\n",
    "        annotation_filename = filename.replace(\".png\", \".xml\")\n",
    "        upload_project.upload(image_path, annotation_filename, overwrite=False)\n",
    "        os.remove(annotation_filename)\n",
    "    else:\n",
    "        print(\"No objects after label filtering.\")\n",
    "    \n",
    "for image_filename, annots in images_dict.items():\n",
    "    print(image_filename)\n",
    "    image_path = os.path.join(images_dir, image_filename)\n",
    "    new_im = cv2.imread(image_path)\n",
    "    if export_to_Roboflow:\n",
    "        export_image_det_to_Roboflow(images_dir, image_filename, annots['masks'], annots['classes'], annots['boxes'])\n",
    "    \n",
    "    plt.imshow(new_im)\n",
    "    plt.title('Detectron2 Masks')\n",
    "    dataset_utils.show_masks(annots['masks']/255, plt.gca()) #, random_color=True)\n",
    "    # plt.savefig('./plots/detr2_masks.png')\n",
    "    plt.show()\n",
    "    plt.close()\n",
    "\n",
    "print(\"Segmentation of all images completed.\")"
   ]
  },
  {
   "cell_type": "code",
   "execution_count": 23,
   "id": "269db68e-5e37-4bd3-aad3-d4af4a1c7e2a",
   "metadata": {},
   "outputs": [],
   "source": [
    "# also, upload image with no artefacts\n",
    "\n",
    "for img in no_artefacts_images:\n",
    "# Upload the image to your project\n",
    "    upload_project.upload(images_dir+img+\".png\")"
   ]
  },
  {
   "cell_type": "code",
   "execution_count": 61,
   "id": "dadd1e54-a568-4feb-9c01-e56b682e5fef",
   "metadata": {
    "scrolled": true
   },
   "outputs": [
    {
     "data": {
      "text/plain": [
       "['S0674210201_L',\n",
       " 'S0123920101_S',\n",
       " 'S0785102401_S',\n",
       " 'S0863230101_M',\n",
       " 'S0677620137_M',\n",
       " 'S0677660101_M',\n",
       " 'S0504101601_S',\n",
       " 'S0311590801_S',\n",
       " 'S0414190701_M',\n",
       " 'S0084230701_S',\n",
       " 'S0651910701_M',\n",
       " 'S0891801501_M',\n",
       " 'S0112681301_S',\n",
       " 'S0677590140_M',\n",
       " 'S0552340101_M',\n",
       " 'S0148740201_S',\n",
       " 'S0556212201_M',\n",
       " 'S0551690401_L',\n",
       " 'S0741390301_S',\n",
       " 'S0111290201_M',\n",
       " 'S0827041801_M',\n",
       " 'S0841951701_M',\n",
       " 'S0151750101_M',\n",
       " 'S0201130201_M',\n",
       " 'S0500670301_M',\n",
       " 'S0312190201_M',\n",
       " 'S0156960201_S',\n",
       " 'S0057740301_S',\n",
       " 'S0412580301_S',\n",
       " 'S0800761701_M',\n",
       " 'S0205070301_M',\n",
       " 'S0552170301_S',\n",
       " 'S0721630101_S',\n",
       " 'S0604960101_S',\n",
       " 'S0111280301_M',\n",
       " 'S0729160601_M',\n",
       " 'S0510390201_S',\n",
       " 'S0556215201_M',\n",
       " 'S0785101701_M',\n",
       " 'S0782500201_M',\n",
       " 'S0823432101_M',\n",
       " 'S0827040101_S',\n",
       " 'S0677590131_M',\n",
       " 'S0650560401_L',\n",
       " 'S0785110101_M',\n",
       " 'S0501370101_U',\n",
       " 'S0842110101_S',\n",
       " 'S0105860101_S']"
      ]
     },
     "execution_count": 61,
     "metadata": {},
     "output_type": "execute_result"
    }
   ],
   "source": [
    "no_artefacts_images"
   ]
  }
 ],
 "metadata": {
  "kernelspec": {
   "display_name": "env_py311",
   "language": "python",
   "name": "env_py311"
  },
  "language_info": {
   "codemirror_mode": {
    "name": "ipython",
    "version": 3
   },
   "file_extension": ".py",
   "mimetype": "text/x-python",
   "name": "python",
   "nbconvert_exporter": "python",
   "pygments_lexer": "ipython3",
   "version": "3.11.7"
  },
  "widgets": {
   "application/vnd.jupyter.widget-state+json": {
    "state": {},
    "version_major": 2,
    "version_minor": 0
   }
  }
 },
 "nbformat": 4,
 "nbformat_minor": 5
}
