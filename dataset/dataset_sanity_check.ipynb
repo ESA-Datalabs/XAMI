{
 "cells": [
  {
   "cell_type": "markdown",
   "id": "a01d653a-7e33-4d79-a160-4fc68630aeb4",
   "metadata": {
    "editable": true,
    "slideshow": {
     "slide_type": ""
    },
    "tags": []
   },
   "source": [
    "**check dataset duplicates**"
   ]
  },
  {
   "cell_type": "code",
   "execution_count": 9,
   "id": "61eb4bbe-31e6-4321-851b-87b8e68cc310",
   "metadata": {
    "scrolled": true
   },
   "outputs": [
    {
     "data": {
      "text/plain": [
       "(0, dict_keys([]))"
      ]
     },
     "execution_count": 9,
     "metadata": {},
     "output_type": "execute_result"
    }
   ],
   "source": [
    "import json\n",
    "\n",
    "with open('./-xmm_om_images_512_SG_SR_CR_only-9/train/_annotations.coco.json', 'r') as f:\n",
    "    data = json.load(f)\n",
    "\n",
    "filenames = [img['file_name'] for img in data['images']]\n",
    "duplicates = {}\n",
    "second_duplicates = {}\n",
    "\n",
    "for filename in filenames:\n",
    "\tid = '_'.join(filename.split('_')[:2])\n",
    "\tif id in duplicates:\n",
    "\t\tsecond_duplicates[id] = 1\n",
    "\telse:\n",
    "\t\tduplicates[id] = 1\n",
    "\n",
    "len(second_duplicates.keys()), second_duplicates.keys()"
   ]
  }
 ],
 "metadata": {
  "kernelspec": {
   "display_name": "env_py311",
   "language": "python",
   "name": "env_py311"
  },
  "language_info": {
   "codemirror_mode": {
    "name": "ipython",
    "version": 3
   },
   "file_extension": ".py",
   "mimetype": "text/x-python",
   "name": "python",
   "nbconvert_exporter": "python",
   "pygments_lexer": "ipython3",
   "version": "3.11.7"
  },
  "widgets": {
   "application/vnd.jupyter.widget-state+json": {
    "state": {},
    "version_major": 2,
    "version_minor": 0
   }
  }
 },
 "nbformat": 4,
 "nbformat_minor": 5
}
