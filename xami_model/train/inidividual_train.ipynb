{
 "cells": [
  {
   "cell_type": "markdown",
   "id": "dac45886-4a06-4e48-b323-02353099ed5a",
   "metadata": {},
   "source": [
    "This notebook provides some top-view logic to train the object detector (YOLO family of models) and the segmentor separately. This step is optional, both the segmentor and detector have already been trained and have checkpoints available. If you don't wish to train the segmentor and detector again, you can go to *[train_combined.ipynb](train_combined.ipynb)* notebook."
   ]
  },
  {
   "cell_type": "markdown",
   "id": "9ccdcff8-96a0-4808-95f5-1f3ed071ba1b",
   "metadata": {},
   "source": [
    "# 🚀 Train object detector\n",
    "\n",
    "For more information about the training process and parameters, check the https://docs.ultralytics.com/modes/train/#train-settings.\n",
    "\n",
    "For example, to download yolov8 original checkpoints, use https://docs.ultralytics.com/models/yolov8/#supported-tasks-and-modes."
   ]
  },
  {
   "cell_type": "code",
   "execution_count": null,
   "id": "110e8e07-f480-48d8-9266-c968f5fc7687",
   "metadata": {
    "scrolled": true
   },
   "outputs": [],
   "source": [
    "from ultralytics import YOLO, RTDETR\n",
    "import sys\n",
    "import os\n",
    "\n",
    "yolo_dataset_path = f\"../../data/xami_dataset_YOLO/\" # replace with path to YOLO dataset\n",
    "data_yaml_path = yolo_dataset_path+'data.yaml'\n",
    "device = 3\n",
    "\n",
    "# Train YOLOv8-segm model\n",
    "model_checkpoint = 'yolov8n-seg.pt'\n",
    "model = YOLO(model_checkpoint) \n",
    "\n",
    "project = f\"yolov8-segm-0\" \n",
    "name = model_checkpoint.replace('.pt', '') \n",
    "\n",
    "results = model.train(data=data_yaml_path,\n",
    "                      project=project,\n",
    "                      name=name,\n",
    "\t\t\t\t\t  task='detect',\n",
    "                      epochs=300,\n",
    "                      patience=0, # patience=0 disables early stopping\n",
    "                      batch=16,\n",
    "                      imgsz=512,\n",
    "                      device=device,\n",
    "\t\t\t\t\t  hsv_h=0.0, hsv_s=0.0, hsv_v=0.0,\n",
    "\t\t\t\t\t  lr0=0.0006,\n",
    "\t\t\t\t\t  dropout=0.2,\n",
    "\t\t\t\t\t  mask_ratio = 1,\n",
    "\t\t\t\t\t  mosaic=0,\n",
    "\t\t\t\t\t  # cos_lr=True,\n",
    "\t\t\t\t\t  box=1.0,\n",
    "\t\t\t\t\t  cls=0.8,\n",
    "\t\t\t\t\t  # label_smoothing=0.1,\n",
    "                      # augment=True, \n",
    "                      # freeze layers\n",
    "                     )"
   ]
  },
  {
   "cell_type": "markdown",
   "id": "bcda8fff-fab9-48fc-8c4f-2ac5e1efaa01",
   "metadata": {},
   "source": [
    "# 🚀 Train segmentor"
   ]
  },
  {
   "cell_type": "code",
   "execution_count": null,
   "id": "2a294af2-9021-4e8e-abc0-c765989fdbe5",
   "metadata": {
    "scrolled": true
   },
   "outputs": [],
   "source": [
    "import yaml\n",
    "from pprint import pprint\n",
    "\n",
    "# create a training configuration\n",
    "config_file_path = './xami_model/train/segmentor_config.yaml'\n",
    "with open(config_file_path, 'r') as file:\n",
    "     config = yaml.safe_load(file)\n",
    "\n",
    "print('Initial config:')\n",
    "pprint(config)\n",
    "config['device_id'] = 1\n",
    "config['input_dir'] = './data/xami_dataset/'\n",
    "config['mobile_sam_checkpoint'] = './xami_model/train/weights/sam_weights/original_mobile_sam.pt'\n",
    "\n",
    "# save the configuration\n",
    "with open(config_file_path, 'w') as file:\n",
    "     yaml.safe_dump(config, file)\n",
    "print(f\"Updated configuration saved to {config_file_path}.\")"
   ]
  },
  {
   "cell_type": "markdown",
   "id": "4d76483a-ed46-4161-b536-431b93ccbc0b",
   "metadata": {},
   "source": [
    "**run training**"
   ]
  },
  {
   "cell_type": "code",
   "execution_count": null,
   "id": "e9c7ca8b-3cfd-4179-9ead-ee73dd93fdfb",
   "metadata": {
    "scrolled": true
   },
   "outputs": [],
   "source": [
    "# replace the python executable with the environment where xami packages are installed\n",
    "!/root/miniforge3/envs/xami_model_env_2/bin/python ./train_sam.py ./segmentor_config.yaml"
   ]
  }
 ],
 "metadata": {
  "kernelspec": {
   "display_name": "Python (xami_model_env_stable_3)",
   "language": "python",
   "name": "xami_model_env_2"
  },
  "language_info": {
   "codemirror_mode": {
    "name": "ipython",
    "version": 3
   },
   "file_extension": ".py",
   "mimetype": "text/x-python",
   "name": "python",
   "nbconvert_exporter": "python",
   "pygments_lexer": "ipython3",
   "version": "3.12.3"
  },
  "widgets": {
   "application/vnd.jupyter.widget-state+json": {
    "state": {
     "07319a1f5e7f40c6ab9df65c32e5819e": {
      "model_module": "@jupyter-widgets/controls",
      "model_module_version": "2.0.0",
      "model_name": "LabelStyleModel",
      "state": {
       "description_width": "",
       "font_family": null,
       "font_size": null,
       "font_style": null,
       "font_variant": null,
       "font_weight": null,
       "text_color": null,
       "text_decoration": null
      }
     },
     "33a9eea5437c4d7cb943fde6848f5a02": {
      "model_module": "@jupyter-widgets/base",
      "model_module_version": "2.0.0",
      "model_name": "LayoutModel",
      "state": {}
     },
     "46c6c358c0ac4871bc67e1a35ad8725e": {
      "model_module": "@jupyter-widgets/base",
      "model_module_version": "2.0.0",
      "model_name": "LayoutModel",
      "state": {}
     },
     "6df40f476c5c432e8fbfe34accbbed9c": {
      "model_module": "@jupyter-widgets/base",
      "model_module_version": "2.0.0",
      "model_name": "LayoutModel",
      "state": {}
     },
     "85e30a43b4014be58b7592bd0c1f13dd": {
      "model_module": "@jupyter-widgets/controls",
      "model_module_version": "2.0.0",
      "model_name": "ProgressStyleModel",
      "state": {
       "description_width": ""
      }
     },
     "9a56aa00aedf41dca97e966222adb4e6": {
      "model_module": "@jupyter-widgets/controls",
      "model_module_version": "2.0.0",
      "model_name": "FloatProgressModel",
      "state": {
       "layout": "IPY_MODEL_6df40f476c5c432e8fbfe34accbbed9c",
       "max": 1,
       "style": "IPY_MODEL_b4eb49d684554c6fa33024c00af74c4c"
      }
     },
     "9bc30b833d1548ec94fe35f9a524e979": {
      "model_module": "@jupyter-widgets/controls",
      "model_module_version": "2.0.0",
      "model_name": "LabelModel",
      "state": {
       "layout": "IPY_MODEL_f2760cab41b64086bb3456817c5500a5",
       "style": "IPY_MODEL_07319a1f5e7f40c6ab9df65c32e5819e"
      }
     },
     "a42ab7c64cac4a03be3d3b756d5c4bc1": {
      "model_module": "@jupyter-widgets/base",
      "model_module_version": "2.0.0",
      "model_name": "LayoutModel",
      "state": {}
     },
     "a54ab33a76db401f8f44631a9653bb28": {
      "model_module": "@jupyter-widgets/controls",
      "model_module_version": "2.0.0",
      "model_name": "VBoxModel",
      "state": {
       "children": [
        "IPY_MODEL_9bc30b833d1548ec94fe35f9a524e979",
        "IPY_MODEL_f52eb83276a441ec906ea24d7039c579"
       ],
       "layout": "IPY_MODEL_46c6c358c0ac4871bc67e1a35ad8725e"
      }
     },
     "a776ddcf7bf54f86ab877d83bf4aa6e1": {
      "model_module": "@jupyter-widgets/base",
      "model_module_version": "2.0.0",
      "model_name": "LayoutModel",
      "state": {}
     },
     "b01533825c564f7088679c29ee791a28": {
      "model_module": "@jupyter-widgets/controls",
      "model_module_version": "2.0.0",
      "model_name": "LabelModel",
      "state": {
       "layout": "IPY_MODEL_33a9eea5437c4d7cb943fde6848f5a02",
       "style": "IPY_MODEL_cb67294a0222486a90e48415c59b6256"
      }
     },
     "b4eb49d684554c6fa33024c00af74c4c": {
      "model_module": "@jupyter-widgets/controls",
      "model_module_version": "2.0.0",
      "model_name": "ProgressStyleModel",
      "state": {
       "description_width": ""
      }
     },
     "cb67294a0222486a90e48415c59b6256": {
      "model_module": "@jupyter-widgets/controls",
      "model_module_version": "2.0.0",
      "model_name": "LabelStyleModel",
      "state": {
       "description_width": "",
       "font_family": null,
       "font_size": null,
       "font_style": null,
       "font_variant": null,
       "font_weight": null,
       "text_color": null,
       "text_decoration": null
      }
     },
     "cf7c441bd010474e8a6e3a8cd8fa78fb": {
      "model_module": "@jupyter-widgets/controls",
      "model_module_version": "2.0.0",
      "model_name": "VBoxModel",
      "state": {
       "children": [
        "IPY_MODEL_b01533825c564f7088679c29ee791a28",
        "IPY_MODEL_9a56aa00aedf41dca97e966222adb4e6"
       ],
       "layout": "IPY_MODEL_a776ddcf7bf54f86ab877d83bf4aa6e1"
      }
     },
     "f2760cab41b64086bb3456817c5500a5": {
      "model_module": "@jupyter-widgets/base",
      "model_module_version": "2.0.0",
      "model_name": "LayoutModel",
      "state": {}
     },
     "f52eb83276a441ec906ea24d7039c579": {
      "model_module": "@jupyter-widgets/controls",
      "model_module_version": "2.0.0",
      "model_name": "FloatProgressModel",
      "state": {
       "layout": "IPY_MODEL_a42ab7c64cac4a03be3d3b756d5c4bc1",
       "max": 1,
       "style": "IPY_MODEL_85e30a43b4014be58b7592bd0c1f13dd"
      }
     }
    },
    "version_major": 2,
    "version_minor": 0
   }
  }
 },
 "nbformat": 4,
 "nbformat_minor": 5
}
